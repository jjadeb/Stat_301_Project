{
 "cells": [
  {
   "cell_type": "markdown",
   "id": "84dfaead-c9c6-42bf-843e-b06b66e79961",
   "metadata": {},
   "source": [
    "# Predicting Impact of Forest Fires"
   ]
  },
  {
   "cell_type": "markdown",
   "id": "9c7d2d1e-37c1-45f1-98b2-e4fe6e2f2c0c",
   "metadata": {},
   "source": [
    "## Introduction"
   ]
  },
  {
   "cell_type": "code",
   "execution_count": null,
   "id": "1019b631-4260-40f2-a7a9-b6b4b65e8948",
   "metadata": {},
   "outputs": [],
   "source": []
  },
  {
   "cell_type": "markdown",
   "id": "50197abd-18dc-4905-b443-ea0a8670df70",
   "metadata": {},
   "source": [
    "## Exploratory Data Analysis"
   ]
  },
  {
   "cell_type": "code",
   "execution_count": null,
   "id": "9aff05b1-bce1-4009-9e46-ae19061a7d04",
   "metadata": {},
   "outputs": [],
   "source": []
  },
  {
   "cell_type": "markdown",
   "id": "a9e3eb70-2878-42e1-b745-087ecc3fda2d",
   "metadata": {},
   "source": [
    "## Methods: Plan"
   ]
  },
  {
   "cell_type": "code",
   "execution_count": null,
   "id": "fac05c39-50f8-4311-afbe-53f2f725e447",
   "metadata": {},
   "outputs": [],
   "source": []
  },
  {
   "cell_type": "markdown",
   "id": "e9498f30-c8ff-429f-85cf-863b2b09a48c",
   "metadata": {},
   "source": [
    "## References"
   ]
  },
  {
   "cell_type": "code",
   "execution_count": null,
   "id": "ce653dd9-fdba-4098-9f97-d7044484f3d3",
   "metadata": {},
   "outputs": [],
   "source": []
  },
  {
   "cell_type": "code",
   "execution_count": null,
   "id": "7f90754e-01cc-4c1f-acd9-0adeee3acbdb",
   "metadata": {},
   "outputs": [],
   "source": []
  }
 ],
 "metadata": {
  "kernelspec": {
   "display_name": "R",
   "language": "R",
   "name": "ir"
  },
  "language_info": {
   "name": ""
  }
 },
 "nbformat": 4,
 "nbformat_minor": 5
}
