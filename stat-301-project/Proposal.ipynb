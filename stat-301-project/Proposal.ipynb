{
 "cells": [
  {
   "cell_type": "markdown",
   "id": "84dfaead-c9c6-42bf-843e-b06b66e79961",
   "metadata": {},
   "source": [
    "# Predicting Impact of Forest Fires"
   ]
  },
  {
   "cell_type": "markdown",
   "id": "9c7d2d1e-37c1-45f1-98b2-e4fe6e2f2c0c",
   "metadata": {},
   "source": [
    "## Introduction"
   ]
  },
  {
   "cell_type": "code",
   "execution_count": null,
   "id": "1019b631-4260-40f2-a7a9-b6b4b65e8948",
   "metadata": {},
   "outputs": [],
   "source": []
  },
  {
   "cell_type": "markdown",
   "id": "50197abd-18dc-4905-b443-ea0a8670df70",
   "metadata": {},
   "source": [
    "## Exploratory Data Analysis"
   ]
  },
  {
   "cell_type": "code",
   "execution_count": null,
   "id": "9aff05b1-bce1-4009-9e46-ae19061a7d04",
   "metadata": {},
   "outputs": [],
   "source": []
  },
  {
   "cell_type": "markdown",
   "id": "a9e3eb70-2878-42e1-b745-087ecc3fda2d",
   "metadata": {},
   "source": [
    "## Methods: Plan"
   ]
  },
  {
   "cell_type": "markdown",
   "id": "7c800623-1677-4306-b9d0-89d275141c08",
   "metadata": {},
   "source": [
    "In this analysis, we are drawing from a data set that is trustworthy. For one, there are ___ missing values. In addition, the nature of the data is objective. By taking measurements of location, weather aspects, and area burnt, there is very little human subjectivity involved. Finally, by setting the seed and explaining our decision-making along the way, we produce a reproducible and trustworthy report."
   ]
  },
  {
   "cell_type": "markdown",
   "id": "488ccdbe-cb6f-4135-8a11-962421761290",
   "metadata": {},
   "source": [
    "The following is our plan for the rest of the report:"
   ]
  },
  {
   "cell_type": "markdown",
   "id": "be67651d-a13f-4c90-a70d-a9a1ca634bb6",
   "metadata": {},
   "source": [
    "- With our training data, use forward subsitution to choose predictor variables\n",
    "- With our training data, use Asymptotic and Bootstrap methods to create a linear regression model with \"area burned\" as our response variable \n",
    "- Compare the Asymptotic and Bootstrap methods\n",
    "- Check for problems such as Heteroscedasticity, Normality, and  Multicollinearity in our model, then adjust our model as\n",
    "- With the test data, evaluate our statistical model using RMSPE\n",
    "- Make a prediction using local forest data from British Columbia, while keeping in mind issues around generalizability "
   ]
  },
  {
   "cell_type": "markdown",
   "id": "90750077-75e0-4765-9e77-e33144dbb74b",
   "metadata": {},
   "source": [
    "By the end of our final report we expect to be able to predict with reasonable accuracy the area burned in a forest fire in Portugal. We also expect to go through a systematic, reproducible, process to determine which predictor variables create a good model."
   ]
  },
  {
   "cell_type": "markdown",
   "id": "4570289d-b7c3-4eed-8916-96fa3ba7f4d0",
   "metadata": {},
   "source": [
    "Our report could be useful in many ways. For one, our results could help with resource designation. We only have finite resources for fire-fighting. Therfore, if we know that low humidity is a big indicator of forset fire area, we can set up low-humidity areas with more fire-fighting resources than high-humidity areas. In addition, our results could help with fire-preperation. If data indicates that if a fire were to occur, it would cover a very large area, it could be prudent to alert citizens of this fire danger."
   ]
  },
  {
   "cell_type": "markdown",
   "id": "e9498f30-c8ff-429f-85cf-863b2b09a48c",
   "metadata": {},
   "source": [
    "## References"
   ]
  },
  {
   "cell_type": "code",
   "execution_count": null,
   "id": "230cdb40-3db8-4c52-ad3b-f4d4cb9cf5b1",
   "metadata": {},
   "outputs": [],
   "source": []
  },
  {
   "cell_type": "code",
   "execution_count": null,
   "id": "ce653dd9-fdba-4098-9f97-d7044484f3d3",
   "metadata": {},
   "outputs": [],
   "source": []
  },
  {
   "cell_type": "code",
   "execution_count": null,
   "id": "7f90754e-01cc-4c1f-acd9-0adeee3acbdb",
   "metadata": {},
   "outputs": [],
   "source": []
  }
 ],
 "metadata": {
  "kernelspec": {
   "display_name": "R",
   "language": "R",
   "name": "ir"
  },
  "language_info": {
   "name": ""
  }
 },
 "nbformat": 4,
 "nbformat_minor": 5
}
