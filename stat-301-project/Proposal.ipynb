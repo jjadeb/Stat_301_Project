{
 "cells": [
  {
   "cell_type": "markdown",
   "id": "84dfaead-c9c6-42bf-843e-b06b66e79961",
   "metadata": {},
   "source": [
    "# Predicting Impact of Forest Fires"
   ]
  },
  {
   "cell_type": "markdown",
   "id": "9c7d2d1e-37c1-45f1-98b2-e4fe6e2f2c0c",
   "metadata": {},
   "source": [
    "## Introduction"
   ]
  },
  {
   "cell_type": "markdown",
   "id": "819f5729-d596-42ee-8fdd-a120609a0d58",
   "metadata": {},
   "source": [
    "Over the past few years, extreme forest fires have raised a global concern for it being a major environmental problem. The conditions on Earth are now more conductive to fire proliferation, due to climate change creating hotter and drier conditions. However, the complexity and extent of forest fires go further beyond the statistics, including human casualties, financial costs, and burnt land [1].  It is recognized as a \"major threat to public health security in the 21st century [2].\" From our forest fires data set, we want to **predict how much area will be burned in a forest fire by analyzing weather conditions known to affect fire occurrences**. \n",
    "\n",
    "The data consists of a collection of 517 records, each corresponding to a fire that occurred in the Montesinho natural park, in the northeast region of Portugal, from January 2000 to December 2003. The following list below contains the selected dataset predictors against our response variable, \"area\", which is measured in hectares.\n",
    "\n",
    "**Dataset Attributes:**\n",
    "- Month (Month of the year)\n",
    "- FFMC (FFMC index from the FWI system) -> moisture content of surface litter (key to ignition and fire spread)\n",
    "- DMC (DMC index from the FWI system) -> moisture content of shallow organic layers ((important to surface fire intensity and difficulty of control)\n",
    "- DC (DC index from the FWI system) -> moisture content of deep organic layers (important to surface fire intensity and difficulty of control)\n",
    "- ISI (ISI index from the FWI system) -> score that correlates with fire velocity spread\n",
    "- Temp (temperature in Celsius degrees)\n",
    "- RH (relative humidity in %)\n",
    "- Wind (wind speed in km/h)\n",
    "- Rain (outside rain mm/m2)\n"
   ]
  },
  {
   "cell_type": "markdown",
   "id": "50197abd-18dc-4905-b443-ea0a8670df70",
   "metadata": {},
   "source": [
    "## Exploratory Data Analysis"
   ]
  },
  {
   "cell_type": "code",
   "execution_count": null,
   "id": "9aff05b1-bce1-4009-9e46-ae19061a7d04",
   "metadata": {},
   "outputs": [],
   "source": []
  },
  {
   "cell_type": "markdown",
   "id": "a9e3eb70-2878-42e1-b745-087ecc3fda2d",
   "metadata": {},
   "source": [
    "## Methods: Plan"
   ]
  },
  {
   "cell_type": "markdown",
   "id": "7c800623-1677-4306-b9d0-89d275141c08",
   "metadata": {},
   "source": [
    "In this analysis, we are drawing from a data set that is trustworthy. For one, there are no missing values. This means we don’t have to omit any observations, or fill in blanks ourselves, which makes our report more reliable. Additionally, the nature of the data is objective. By taking measurements of location, weather aspects, and area burnt, there is very little human subjectivity involved. Finally, by setting the seed to maintain consistent results and explaining our decision-making along the way, we will produce a reproducible and trustworthy report from the data."
   ]
  },
  {
   "cell_type": "markdown",
   "id": "be67651d-a13f-4c90-a70d-a9a1ca634bb6",
   "metadata": {},
   "source": [
    "**Methods we plan to use:**\n",
    "\n",
    "- Use training data to apply forward substitution and Bayesian Information Criterion (BIC) values to choose predictor variables\n",
    "- Use training data to utilize Asymptotic and Bootstrap methods to create linear regression models which will predict \"area burned\", our response variable \n",
    "- Compare the Asymptotic and Bootstrap methods\n",
    "- Check for issues such as Heteroscedasticity, Normality, and Multicollinearity in our model, and adjust our model accordingly to rectify them\n",
    "- With our test data, evaluate the statistical model using the Test Mean Squared Error\n",
    "- Make a prediction using local forest data from British Columbia, while keeping in mind issues around generalizability\n"
   ]
  },
  {
   "cell_type": "markdown",
   "id": "90750077-75e0-4765-9e77-e33144dbb74b",
   "metadata": {},
   "source": [
    "**We expect to achieve:**\n",
    "\n",
    "Given the necessary information about a location, we expect to be able to predict with reasonable accuracy the area burned if a forest fire were to occur in that location. We also expect to go through a systematic, reproducible, process to determine which predictor variables create a good statistical model."
   ]
  },
  {
   "cell_type": "markdown",
   "id": "4570289d-b7c3-4eed-8916-96fa3ba7f4d0",
   "metadata": {},
   "source": [
    "**Potential impact:**\n",
    "\n",
    "Our report could be useful in many ways. For one, our results could help with resource designation, as there are only a finite amount of resources for fire-fighting. Therefore, if we know, for example, that low humidity is a big indicator of forest fire area, we can allocate more fire-fighting resources to areas with low-humidity than to high-humidity areas. In addition, our results could help with fire-preparation. If the data indicates that a fire is predicted to cover a very large area, it could be life saving to alert citizens of the danger to evacuate with ample warning."
   ]
  },
  {
   "cell_type": "markdown",
   "id": "e9498f30-c8ff-429f-85cf-863b2b09a48c",
   "metadata": {},
   "source": [
    "## References"
   ]
  },
  {
   "cell_type": "markdown",
   "id": "c88a9080-8842-4fe5-9ee5-f5d0e3b5f94f",
   "metadata": {},
   "source": [
    "[1] Amorim, Jorge & J.J., KEIZER & A.I., MIRANDA & K., MONAGHAN. (2011). Forest fires research: beyond burnt area statistics. \n",
    "\n",
    "[2] Pitman, A. J., Narisma, G. T., & McAneney, J. (2007). The impact of climate change on the risk of forest and grassland fires in Australia. Climatic Change, 84(3-4), 383–401. https://doi.org/10.1007/s10584-007-9243-6 \n"
   ]
  },
  {
   "cell_type": "code",
   "execution_count": null,
   "id": "c6ec042f-8c1f-4eef-a50f-8f73ac08b939",
   "metadata": {},
   "outputs": [],
   "source": []
  }
 ],
 "metadata": {
  "kernelspec": {
   "display_name": "R",
   "language": "R",
   "name": "ir"
  },
  "language_info": {
   "name": ""
  }
 },
 "nbformat": 4,
 "nbformat_minor": 5
}
