{
 "cells": [
  {
   "cell_type": "markdown",
   "id": "84dfaead-c9c6-42bf-843e-b06b66e79961",
   "metadata": {},
   "source": [
    "# Predicting Impact of Forest Fires"
   ]
  },
  {
   "cell_type": "markdown",
   "id": "9c7d2d1e-37c1-45f1-98b2-e4fe6e2f2c0c",
   "metadata": {},
   "source": [
    "## Introduction"
   ]
  },
  {
   "cell_type": "code",
   "execution_count": null,
   "id": "1019b631-4260-40f2-a7a9-b6b4b65e8948",
   "metadata": {},
   "outputs": [],
   "source": []
  },
  {
   "cell_type": "markdown",
   "id": "50197abd-18dc-4905-b443-ea0a8670df70",
   "metadata": {},
   "source": [
    "## Exploratory Data Analysis"
   ]
  },
  {
   "cell_type": "code",
   "execution_count": null,
   "id": "9aff05b1-bce1-4009-9e46-ae19061a7d04",
   "metadata": {},
   "outputs": [],
   "source": []
  },
  {
   "cell_type": "markdown",
   "id": "a9e3eb70-2878-42e1-b745-087ecc3fda2d",
   "metadata": {},
   "source": [
    "## Methods: Plan"
   ]
  },
  {
   "cell_type": "markdown",
   "id": "7c800623-1677-4306-b9d0-89d275141c08",
   "metadata": {},
   "source": [
    "In this analysis, we are drawing from a data set that is trustworthy. For one, there are no missing values. This means we don’t have to omit any observations, or fill in blanks ourselves, which makes our report more reliable. Additionally, the nature of the data is objective. By taking measurements of location, weather aspects, and area burnt, there is very little human subjectivity involved. Finally, by setting the seed to maintain consistent results and explaining our decision-making along the way, we will produce a reproducible and trustworthy report from the data."
   ]
  },
  {
   "cell_type": "markdown",
   "id": "be67651d-a13f-4c90-a70d-a9a1ca634bb6",
   "metadata": {},
   "source": [
    "**Methods we plan to use:**\n",
    "\n",
    "- Use training data to apply forward substitution and Bayesian Information Criterion (BIC) values to choose predictor variables\n",
    "- Use training data to utilize Asymptotic and Bootstrap methods to create linear regression models which will predict \"area burned\", our response variable \n",
    "- Compare the Asymptotic and Bootstrap methods\n",
    "- Check for issues such as Heteroscedasticity, Normality, and Multicollinearity in our model, and adjust our model accordingly to rectify them\n",
    "- With our test data, evaluate the statistical model using the Test Mean Squared Error\n",
    "- Make a prediction using local forest data from British Columbia, while keeping in mind issues around generalizability\n"
   ]
  },
  {
   "cell_type": "markdown",
   "id": "90750077-75e0-4765-9e77-e33144dbb74b",
   "metadata": {},
   "source": [
    "**We expect to achieve:**\n",
    "\n",
    "Given the necessary information about a location, we expect to be able to predict with reasonable accuracy the area burned if a forest fire were to occur in that location. We also expect to go through a systematic, reproducible, process to determine which predictor variables create a good statistical model."
   ]
  },
  {
   "cell_type": "markdown",
   "id": "4570289d-b7c3-4eed-8916-96fa3ba7f4d0",
   "metadata": {},
   "source": [
    "**Potential impact:**\n",
    "\n",
    "Our report could be useful in many ways. For one, our results could help with resource designation, as there are only a finite amount of resources for fire-fighting. Therefore, if we know, for example, that low humidity is a big indicator of forest fire area, we can allocate more fire-fighting resources to areas with low-humidity than to high-humidity areas. In addition, our results could help with fire-preparation. If the data indicates that a fire is predicted to cover a very large area, it could be life saving to alert citizens of the danger to evacuate with ample warning."
   ]
  },
  {
   "cell_type": "markdown",
   "id": "e9498f30-c8ff-429f-85cf-863b2b09a48c",
   "metadata": {},
   "source": [
    "## References"
   ]
  },
  {
   "cell_type": "code",
   "execution_count": null,
   "id": "230cdb40-3db8-4c52-ad3b-f4d4cb9cf5b1",
   "metadata": {},
   "outputs": [],
   "source": []
  },
  {
   "cell_type": "code",
   "execution_count": null,
   "id": "ce653dd9-fdba-4098-9f97-d7044484f3d3",
   "metadata": {},
   "outputs": [],
   "source": []
  },
  {
   "cell_type": "code",
   "execution_count": null,
   "id": "7f90754e-01cc-4c1f-acd9-0adeee3acbdb",
   "metadata": {},
   "outputs": [],
   "source": []
  }
 ],
 "metadata": {
  "kernelspec": {
   "display_name": "R",
   "language": "R",
   "name": "ir"
  },
  "language_info": {
   "name": ""
  }
 },
 "nbformat": 4,
 "nbformat_minor": 5
}
