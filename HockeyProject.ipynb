{
 "cells": [
  {
   "cell_type": "markdown",
   "id": "845dc810-909a-48d9-aaac-5caa413cd0bd",
   "metadata": {},
   "source": [
    "# National Hockey League Players Salary Prediction"
   ]
  },
  {
   "cell_type": "markdown",
   "id": "314f7708-48f5-4fbf-ae61-69a06d8bb39c",
   "metadata": {
    "tags": []
   },
   "source": [
    "## Introduction"
   ]
  },
  {
   "cell_type": "markdown",
   "id": "4a71d592-3aa8-4580-b2a4-e5d469489f8b",
   "metadata": {},
   "source": [
    "As a National Hockey League (NHL) fan I've been curious as to what factors make up a good player and what earns them the big bucks. My goal is to use KNN-regression to predict NHL players salaries. I'll use predictor selection method to see which predictors will be most useful in determining salaries. Hopefully this experience will help me become more familiar with R, Jupyter, and NHL statistics."
   ]
  },
  {
   "cell_type": "markdown",
   "id": "62bf3b10-b886-47eb-859f-8146b68e933b",
   "metadata": {},
   "source": [
    "## Data Description"
   ]
  },
  {
   "cell_type": "markdown",
   "id": "f313b253-2b0a-4a21-bc99-877d64577487",
   "metadata": {},
   "source": [
    "I found the data here: https://data.world/sportsvizsunday/2020-april-twitter-sports/workspace/file?filename=NHL+Stats.xlsx"
   ]
  },
  {
   "cell_type": "markdown",
   "id": "7d16e995-4541-44d4-9a6c-bfc8cee731ce",
   "metadata": {},
   "source": [
    "**Disclaimer:** The lack of description about where this data came from makes the data somewhat unreliable. If I were to redo this project I would put effort in at the beginning to make sure my data was coming from a trustworthy source. The source of the data is also important to know so that the right data collectors can be credited. In this case, the credit should go to the NHL Statistician teams. \n",
    "\n",
    "By the upload date and content of this dataset, I can infer that the data is for the 2019-2020 NHL season. Although, there are slight discrepencies between this data set and the NHL statistcs found on their official website. One reason for this could be that the data set was uplaoded before the regular season had come to an end."
   ]
  },
  {
   "cell_type": "markdown",
   "id": "76da2100-ecee-4188-8281-7b2e12b27c35",
   "metadata": {},
   "source": [
    "NHL official stats: https://www.nhl.com/stats/?season=20192020&gameType=2"
   ]
  },
  {
   "cell_type": "markdown",
   "id": "3444f03c-6ffb-41b2-90dd-68ff3cd456bd",
   "metadata": {},
   "source": [
    "I found this website useful for interpreting the column names of this data set: https://www.naturalstattrick.com/glossary.php?players"
   ]
  },
  {
   "cell_type": "markdown",
   "id": "065c98e8-9481-4864-8d4d-8269df4a698e",
   "metadata": {},
   "source": [
    "## Reading the Data"
   ]
  },
  {
   "cell_type": "markdown",
   "id": "af0e0044-595b-469c-ae41-939fd3c005e5",
   "metadata": {},
   "source": [
    "First, let's load in the libraries and get the data."
   ]
  },
  {
   "cell_type": "code",
   "execution_count": 2,
   "id": "056b5dcc-e620-4693-90d3-477c765fd0d1",
   "metadata": {},
   "outputs": [
    {
     "name": "stderr",
     "output_type": "stream",
     "text": [
      "Warning message in system(\"timedatectl\", intern = TRUE):\n",
      "“running command 'timedatectl' had status 1”\n",
      "── \u001b[1mAttaching packages\u001b[22m ─────────────────────────────────────── tidyverse 1.3.1 ──\n",
      "\n",
      "\u001b[32m✔\u001b[39m \u001b[34mggplot2\u001b[39m 3.3.5     \u001b[32m✔\u001b[39m \u001b[34mpurrr  \u001b[39m 0.3.4\n",
      "\u001b[32m✔\u001b[39m \u001b[34mtibble \u001b[39m 3.1.6     \u001b[32m✔\u001b[39m \u001b[34mdplyr  \u001b[39m 1.0.8\n",
      "\u001b[32m✔\u001b[39m \u001b[34mtidyr  \u001b[39m 1.2.0     \u001b[32m✔\u001b[39m \u001b[34mstringr\u001b[39m 1.4.0\n",
      "\u001b[32m✔\u001b[39m \u001b[34mreadr  \u001b[39m 2.1.1     \u001b[32m✔\u001b[39m \u001b[34mforcats\u001b[39m 0.5.1\n",
      "\n",
      "── \u001b[1mConflicts\u001b[22m ────────────────────────────────────────── tidyverse_conflicts() ──\n",
      "\u001b[31m✖\u001b[39m \u001b[34mdplyr\u001b[39m::\u001b[32mfilter()\u001b[39m masks \u001b[34mstats\u001b[39m::filter()\n",
      "\u001b[31m✖\u001b[39m \u001b[34mdplyr\u001b[39m::\u001b[32mlag()\u001b[39m    masks \u001b[34mstats\u001b[39m::lag()\n",
      "\n",
      "\n",
      "Attaching package: ‘magrittr’\n",
      "\n",
      "\n",
      "The following object is masked from ‘package:purrr’:\n",
      "\n",
      "    set_names\n",
      "\n",
      "\n",
      "The following object is masked from ‘package:tidyr’:\n",
      "\n",
      "    extract\n",
      "\n",
      "\n",
      "Loading required package: lattice\n",
      "\n",
      "Loading required package: survival\n",
      "\n",
      "Loading required package: Formula\n",
      "\n",
      "\n",
      "Attaching package: ‘Hmisc’\n",
      "\n",
      "\n",
      "The following objects are masked from ‘package:dplyr’:\n",
      "\n",
      "    src, summarize\n",
      "\n",
      "\n",
      "The following objects are masked from ‘package:base’:\n",
      "\n",
      "    format.pval, units\n",
      "\n",
      "\n",
      "Registered S3 method overwritten by 'tune':\n",
      "  method                   from   \n",
      "  required_pkgs.model_spec parsnip\n",
      "\n",
      "── \u001b[1mAttaching packages\u001b[22m ────────────────────────────────────── tidymodels 0.1.4 ──\n",
      "\n",
      "\u001b[32m✔\u001b[39m \u001b[34mbroom       \u001b[39m 0.7.11     \u001b[32m✔\u001b[39m \u001b[34mrsample     \u001b[39m 0.1.1 \n",
      "\u001b[32m✔\u001b[39m \u001b[34mdials       \u001b[39m 0.1.0      \u001b[32m✔\u001b[39m \u001b[34mtune        \u001b[39m 0.1.6 \n",
      "\u001b[32m✔\u001b[39m \u001b[34minfer       \u001b[39m 1.0.0      \u001b[32m✔\u001b[39m \u001b[34mworkflows   \u001b[39m 0.2.4 \n",
      "\u001b[32m✔\u001b[39m \u001b[34mmodeldata   \u001b[39m 0.1.1      \u001b[32m✔\u001b[39m \u001b[34mworkflowsets\u001b[39m 0.1.0 \n",
      "\u001b[32m✔\u001b[39m \u001b[34mparsnip     \u001b[39m 0.1.7      \u001b[32m✔\u001b[39m \u001b[34myardstick   \u001b[39m 0.0.9 \n",
      "\u001b[32m✔\u001b[39m \u001b[34mrecipes     \u001b[39m 0.1.17     \n",
      "\n",
      "── \u001b[1mConflicts\u001b[22m ───────────────────────────────────────── tidymodels_conflicts() ──\n",
      "\u001b[31m✖\u001b[39m \u001b[34mscales\u001b[39m::\u001b[32mdiscard()\u001b[39m     masks \u001b[34mpurrr\u001b[39m::discard()\n",
      "\u001b[31m✖\u001b[39m \u001b[34mmagrittr\u001b[39m::\u001b[32mextract()\u001b[39m   masks \u001b[34mtidyr\u001b[39m::extract()\n",
      "\u001b[31m✖\u001b[39m \u001b[34mdplyr\u001b[39m::\u001b[32mfilter()\u001b[39m       masks \u001b[34mstats\u001b[39m::filter()\n",
      "\u001b[31m✖\u001b[39m \u001b[34mrecipes\u001b[39m::\u001b[32mfixed()\u001b[39m      masks \u001b[34mstringr\u001b[39m::fixed()\n",
      "\u001b[31m✖\u001b[39m \u001b[34mdplyr\u001b[39m::\u001b[32mlag()\u001b[39m          masks \u001b[34mstats\u001b[39m::lag()\n",
      "\u001b[31m✖\u001b[39m \u001b[34mmagrittr\u001b[39m::\u001b[32mset_names()\u001b[39m masks \u001b[34mpurrr\u001b[39m::set_names()\n",
      "\u001b[31m✖\u001b[39m \u001b[34myardstick\u001b[39m::\u001b[32mspec()\u001b[39m     masks \u001b[34mreadr\u001b[39m::spec()\n",
      "\u001b[31m✖\u001b[39m \u001b[34mHmisc\u001b[39m::\u001b[32msrc()\u001b[39m          masks \u001b[34mdplyr\u001b[39m::src()\n",
      "\u001b[31m✖\u001b[39m \u001b[34mrecipes\u001b[39m::\u001b[32mstep()\u001b[39m       masks \u001b[34mstats\u001b[39m::step()\n",
      "\u001b[31m✖\u001b[39m \u001b[34mHmisc\u001b[39m::\u001b[32msummarize()\u001b[39m    masks \u001b[34mdplyr\u001b[39m::summarize()\n",
      "\u001b[31m✖\u001b[39m \u001b[34mparsnip\u001b[39m::\u001b[32mtranslate()\u001b[39m  masks \u001b[34mHmisc\u001b[39m::translate()\n",
      "\u001b[34m•\u001b[39m Dig deeper into tidy modeling with R at \u001b[32mhttps://www.tmwr.org\u001b[39m\n",
      "\n",
      "Loading required package: usethis\n",
      "\n",
      "\n",
      "Attaching package: ‘devtools’\n",
      "\n",
      "\n",
      "The following object is masked from ‘package:recipes’:\n",
      "\n",
      "    check\n",
      "\n",
      "\n",
      "Registered S3 method overwritten by 'GGally':\n",
      "  method from   \n",
      "  +.gg   ggplot2\n",
      "\n"
     ]
    }
   ],
   "source": [
    "library(\"httr\")\n",
    "library(\"readxl\")\n",
    "library(\"tidyverse\")\n",
    "library(\"magrittr\")\n",
    "library(\"Hmisc\")\n",
    "library(\"tidymodels\")\n",
    "library(\"devtools\")\n",
    "library(\"ggplot2\")\n",
    "library(\"GGally\")"
   ]
  },
  {
   "cell_type": "code",
   "execution_count": 3,
   "id": "f993ba26-c00c-4790-ad24-3eb9715bcfed",
   "metadata": {},
   "outputs": [],
   "source": [
    "invisible(GET(\"https://query.data.world/s/67ihloexi4bnlyn66lxwrf7jpo2hwc\", write_disk(tf <- tempfile(fileext = \".xlsx\"))))\n",
    "salary_df <- read_excel(tf, sheet = 1)\n",
    "stat_df <- read_excel(tf, sheet = 2) "
   ]
  },
  {
   "cell_type": "markdown",
   "id": "59bf9b98-2d4d-4019-9b48-1c1a43d33d92",
   "metadata": {},
   "source": [
    "Lets take a look at our two data sets"
   ]
  },
  {
   "cell_type": "code",
   "execution_count": 4,
   "id": "191516b3-1cea-43fe-bdf6-1b70690c2717",
   "metadata": {},
   "outputs": [
    {
     "data": {
      "text/html": [
       "<table class=\"dataframe\">\n",
       "<caption>A tibble: 6 × 4</caption>\n",
       "<thead>\n",
       "\t<tr><th scope=col>Player</th><th scope=col>Tm</th><th scope=col>Salary</th><th scope=col>Cap Hit</th></tr>\n",
       "\t<tr><th scope=col>&lt;chr&gt;</th><th scope=col>&lt;chr&gt;</th><th scope=col>&lt;dbl&gt;</th><th scope=col>&lt;chr&gt;</th></tr>\n",
       "</thead>\n",
       "<tbody>\n",
       "\t<tr><td>Mitch Marner   </td><td>TOR</td><td>16000000</td><td>10893000</td></tr>\n",
       "\t<tr><td>John Tavares   </td><td>TOR</td><td>15900000</td><td>11000000</td></tr>\n",
       "\t<tr><td>Auston Matthews</td><td>TOR</td><td>15900000</td><td>11634000</td></tr>\n",
       "\t<tr><td>Carey Price    </td><td>MTL</td><td>15000000</td><td>10500000</td></tr>\n",
       "\t<tr><td>Connor McDavid </td><td>EDM</td><td>15000000</td><td>12500000</td></tr>\n",
       "\t<tr><td>Artemi Panarin </td><td>NYR</td><td>14000000</td><td>11642857</td></tr>\n",
       "</tbody>\n",
       "</table>\n"
      ],
      "text/latex": [
       "A tibble: 6 × 4\n",
       "\\begin{tabular}{llll}\n",
       " Player & Tm & Salary & Cap Hit\\\\\n",
       " <chr> & <chr> & <dbl> & <chr>\\\\\n",
       "\\hline\n",
       "\t Mitch Marner    & TOR & 16000000 & 10893000\\\\\n",
       "\t John Tavares    & TOR & 15900000 & 11000000\\\\\n",
       "\t Auston Matthews & TOR & 15900000 & 11634000\\\\\n",
       "\t Carey Price     & MTL & 15000000 & 10500000\\\\\n",
       "\t Connor McDavid  & EDM & 15000000 & 12500000\\\\\n",
       "\t Artemi Panarin  & NYR & 14000000 & 11642857\\\\\n",
       "\\end{tabular}\n"
      ],
      "text/markdown": [
       "\n",
       "A tibble: 6 × 4\n",
       "\n",
       "| Player &lt;chr&gt; | Tm &lt;chr&gt; | Salary &lt;dbl&gt; | Cap Hit &lt;chr&gt; |\n",
       "|---|---|---|---|\n",
       "| Mitch Marner    | TOR | 16000000 | 10893000 |\n",
       "| John Tavares    | TOR | 15900000 | 11000000 |\n",
       "| Auston Matthews | TOR | 15900000 | 11634000 |\n",
       "| Carey Price     | MTL | 15000000 | 10500000 |\n",
       "| Connor McDavid  | EDM | 15000000 | 12500000 |\n",
       "| Artemi Panarin  | NYR | 14000000 | 11642857 |\n",
       "\n"
      ],
      "text/plain": [
       "  Player          Tm  Salary   Cap Hit \n",
       "1 Mitch Marner    TOR 16000000 10893000\n",
       "2 John Tavares    TOR 15900000 11000000\n",
       "3 Auston Matthews TOR 15900000 11634000\n",
       "4 Carey Price     MTL 15000000 10500000\n",
       "5 Connor McDavid  EDM 15000000 12500000\n",
       "6 Artemi Panarin  NYR 14000000 11642857"
      ]
     },
     "metadata": {},
     "output_type": "display_data"
    },
    {
     "data": {
      "text/html": [
       "<table class=\"dataframe\">\n",
       "<caption>A tibble: 6 × 34</caption>\n",
       "<thead>\n",
       "\t<tr><th scope=col>Player</th><th scope=col>Team</th><th scope=col>Position</th><th scope=col>GP</th><th scope=col>TOI</th><th scope=col>Goals</th><th scope=col>Total Assists</th><th scope=col>First Assists</th><th scope=col>Second Assists</th><th scope=col>Total Points</th><th scope=col>IPP</th><th scope=col>Shots</th><th scope=col>SH%</th><th scope=col>ixG</th><th scope=col>iCF</th><th scope=col>iFF</th><th scope=col>iSCF</th><th scope=col>iHDCF</th><th scope=col>Rush Attempts</th><th scope=col>Rebounds Created</th><th scope=col>PIM</th><th scope=col>Total Penalties</th><th scope=col>Minor</th><th scope=col>Major</th><th scope=col>Misconduct</th><th scope=col>Penalties Drawn</th><th scope=col>Giveaways</th><th scope=col>Takeaways</th><th scope=col>Hits</th><th scope=col>Hits Taken</th><th scope=col>Shots Blocked</th><th scope=col>Faceoffs Won</th><th scope=col>Faceoffs Lost</th><th scope=col>Faceoffs %</th></tr>\n",
       "\t<tr><th scope=col>&lt;chr&gt;</th><th scope=col>&lt;chr&gt;</th><th scope=col>&lt;chr&gt;</th><th scope=col>&lt;dbl&gt;</th><th scope=col>&lt;dbl&gt;</th><th scope=col>&lt;dbl&gt;</th><th scope=col>&lt;dbl&gt;</th><th scope=col>&lt;dbl&gt;</th><th scope=col>&lt;dbl&gt;</th><th scope=col>&lt;dbl&gt;</th><th scope=col>&lt;chr&gt;</th><th scope=col>&lt;dbl&gt;</th><th scope=col>&lt;chr&gt;</th><th scope=col>&lt;dbl&gt;</th><th scope=col>&lt;dbl&gt;</th><th scope=col>&lt;dbl&gt;</th><th scope=col>&lt;dbl&gt;</th><th scope=col>&lt;dbl&gt;</th><th scope=col>&lt;dbl&gt;</th><th scope=col>&lt;dbl&gt;</th><th scope=col>&lt;dbl&gt;</th><th scope=col>&lt;dbl&gt;</th><th scope=col>&lt;dbl&gt;</th><th scope=col>&lt;dbl&gt;</th><th scope=col>&lt;dbl&gt;</th><th scope=col>&lt;dbl&gt;</th><th scope=col>&lt;dbl&gt;</th><th scope=col>&lt;dbl&gt;</th><th scope=col>&lt;dbl&gt;</th><th scope=col>&lt;dbl&gt;</th><th scope=col>&lt;dbl&gt;</th><th scope=col>&lt;dbl&gt;</th><th scope=col>&lt;dbl&gt;</th><th scope=col>&lt;chr&gt;</th></tr>\n",
       "</thead>\n",
       "<tbody>\n",
       "\t<tr><td>Leon Draisaitl  </td><td>EDM</td><td>C   </td><td>65</td><td>1475.133</td><td>39</td><td>63</td><td>37</td><td>26</td><td>102</td><td>81.599999999999994</td><td>202</td><td>19.309999999999999</td><td>27.05</td><td>372</td><td>278</td><td>248</td><td>90</td><td>16</td><td>25</td><td>16</td><td> 8</td><td> 8</td><td>0</td><td>0</td><td>19</td><td>77</td><td>53</td><td>25</td><td> 83</td><td>19</td><td>595</td><td>554</td><td>51.78</td></tr>\n",
       "\t<tr><td>David Pastrnak  </td><td>BOS</td><td>R   </td><td>66</td><td>1257.817</td><td>47</td><td>44</td><td>29</td><td>15</td><td> 91</td><td>78.45             </td><td>257</td><td>18.29             </td><td>23.46</td><td>478</td><td>355</td><td>247</td><td>91</td><td> 9</td><td>30</td><td>38</td><td>19</td><td>19</td><td>0</td><td>0</td><td>25</td><td>87</td><td>49</td><td>45</td><td>107</td><td>20</td><td>  7</td><td> 11</td><td>38.89</td></tr>\n",
       "\t<tr><td>Artemi Panarin  </td><td>NYR</td><td>C, L</td><td>64</td><td>1302.850</td><td>32</td><td>58</td><td>30</td><td>28</td><td> 90</td><td>75.63             </td><td>196</td><td>16.329999999999998</td><td>16.92</td><td>377</td><td>280</td><td>192</td><td>42</td><td> 9</td><td>24</td><td>18</td><td> 9</td><td> 9</td><td>0</td><td>0</td><td>14</td><td>75</td><td>50</td><td>23</td><td> 48</td><td>17</td><td>  1</td><td>  1</td><td>50   </td></tr>\n",
       "\t<tr><td>Connor McDavid  </td><td>EDM</td><td>C   </td><td>59</td><td>1297.217</td><td>31</td><td>58</td><td>35</td><td>23</td><td> 89</td><td>78.069999999999993</td><td>197</td><td>15.74             </td><td>20.67</td><td>316</td><td>246</td><td>219</td><td>93</td><td>15</td><td>21</td><td>28</td><td>14</td><td>14</td><td>0</td><td>0</td><td>23</td><td>74</td><td>51</td><td>34</td><td> 54</td><td>18</td><td>289</td><td>316</td><td>47.77</td></tr>\n",
       "\t<tr><td>Nathan MacKinnon</td><td>COL</td><td>C   </td><td>64</td><td>1364.133</td><td>33</td><td>52</td><td>33</td><td>19</td><td> 85</td><td>77.27             </td><td>298</td><td>11.07             </td><td>22.69</td><td>510</td><td>375</td><td>256</td><td>65</td><td>12</td><td>33</td><td>12</td><td> 5</td><td> 5</td><td>0</td><td>0</td><td>22</td><td>52</td><td>37</td><td>49</td><td> 74</td><td>30</td><td>340</td><td>455</td><td>42.77</td></tr>\n",
       "\t<tr><td>Brad Marchand   </td><td>BOS</td><td>C, L</td><td>66</td><td>1293.783</td><td>27</td><td>56</td><td>35</td><td>21</td><td> 83</td><td>69.17             </td><td>179</td><td>15.08             </td><td>20.12</td><td>291</td><td>232</td><td>183</td><td>72</td><td> 8</td><td>16</td><td>72</td><td>28</td><td>25</td><td>2</td><td>1</td><td>42</td><td>68</td><td>41</td><td>53</td><td> 90</td><td>18</td><td> 20</td><td> 29</td><td>40.82</td></tr>\n",
       "</tbody>\n",
       "</table>\n"
      ],
      "text/latex": [
       "A tibble: 6 × 34\n",
       "\\begin{tabular}{llllllllllllllllllllllllllllllllll}\n",
       " Player & Team & Position & GP & TOI & Goals & Total Assists & First Assists & Second Assists & Total Points & IPP & Shots & SH\\% & ixG & iCF & iFF & iSCF & iHDCF & Rush Attempts & Rebounds Created & PIM & Total Penalties & Minor & Major & Misconduct & Penalties Drawn & Giveaways & Takeaways & Hits & Hits Taken & Shots Blocked & Faceoffs Won & Faceoffs Lost & Faceoffs \\%\\\\\n",
       " <chr> & <chr> & <chr> & <dbl> & <dbl> & <dbl> & <dbl> & <dbl> & <dbl> & <dbl> & <chr> & <dbl> & <chr> & <dbl> & <dbl> & <dbl> & <dbl> & <dbl> & <dbl> & <dbl> & <dbl> & <dbl> & <dbl> & <dbl> & <dbl> & <dbl> & <dbl> & <dbl> & <dbl> & <dbl> & <dbl> & <dbl> & <dbl> & <chr>\\\\\n",
       "\\hline\n",
       "\t Leon Draisaitl   & EDM & C    & 65 & 1475.133 & 39 & 63 & 37 & 26 & 102 & 81.599999999999994 & 202 & 19.309999999999999 & 27.05 & 372 & 278 & 248 & 90 & 16 & 25 & 16 &  8 &  8 & 0 & 0 & 19 & 77 & 53 & 25 &  83 & 19 & 595 & 554 & 51.78\\\\\n",
       "\t David Pastrnak   & BOS & R    & 66 & 1257.817 & 47 & 44 & 29 & 15 &  91 & 78.45              & 257 & 18.29              & 23.46 & 478 & 355 & 247 & 91 &  9 & 30 & 38 & 19 & 19 & 0 & 0 & 25 & 87 & 49 & 45 & 107 & 20 &   7 &  11 & 38.89\\\\\n",
       "\t Artemi Panarin   & NYR & C, L & 64 & 1302.850 & 32 & 58 & 30 & 28 &  90 & 75.63              & 196 & 16.329999999999998 & 16.92 & 377 & 280 & 192 & 42 &  9 & 24 & 18 &  9 &  9 & 0 & 0 & 14 & 75 & 50 & 23 &  48 & 17 &   1 &   1 & 50   \\\\\n",
       "\t Connor McDavid   & EDM & C    & 59 & 1297.217 & 31 & 58 & 35 & 23 &  89 & 78.069999999999993 & 197 & 15.74              & 20.67 & 316 & 246 & 219 & 93 & 15 & 21 & 28 & 14 & 14 & 0 & 0 & 23 & 74 & 51 & 34 &  54 & 18 & 289 & 316 & 47.77\\\\\n",
       "\t Nathan MacKinnon & COL & C    & 64 & 1364.133 & 33 & 52 & 33 & 19 &  85 & 77.27              & 298 & 11.07              & 22.69 & 510 & 375 & 256 & 65 & 12 & 33 & 12 &  5 &  5 & 0 & 0 & 22 & 52 & 37 & 49 &  74 & 30 & 340 & 455 & 42.77\\\\\n",
       "\t Brad Marchand    & BOS & C, L & 66 & 1293.783 & 27 & 56 & 35 & 21 &  83 & 69.17              & 179 & 15.08              & 20.12 & 291 & 232 & 183 & 72 &  8 & 16 & 72 & 28 & 25 & 2 & 1 & 42 & 68 & 41 & 53 &  90 & 18 &  20 &  29 & 40.82\\\\\n",
       "\\end{tabular}\n"
      ],
      "text/markdown": [
       "\n",
       "A tibble: 6 × 34\n",
       "\n",
       "| Player &lt;chr&gt; | Team &lt;chr&gt; | Position &lt;chr&gt; | GP &lt;dbl&gt; | TOI &lt;dbl&gt; | Goals &lt;dbl&gt; | Total Assists &lt;dbl&gt; | First Assists &lt;dbl&gt; | Second Assists &lt;dbl&gt; | Total Points &lt;dbl&gt; | IPP &lt;chr&gt; | Shots &lt;dbl&gt; | SH% &lt;chr&gt; | ixG &lt;dbl&gt; | iCF &lt;dbl&gt; | iFF &lt;dbl&gt; | iSCF &lt;dbl&gt; | iHDCF &lt;dbl&gt; | Rush Attempts &lt;dbl&gt; | Rebounds Created &lt;dbl&gt; | PIM &lt;dbl&gt; | Total Penalties &lt;dbl&gt; | Minor &lt;dbl&gt; | Major &lt;dbl&gt; | Misconduct &lt;dbl&gt; | Penalties Drawn &lt;dbl&gt; | Giveaways &lt;dbl&gt; | Takeaways &lt;dbl&gt; | Hits &lt;dbl&gt; | Hits Taken &lt;dbl&gt; | Shots Blocked &lt;dbl&gt; | Faceoffs Won &lt;dbl&gt; | Faceoffs Lost &lt;dbl&gt; | Faceoffs % &lt;chr&gt; |\n",
       "|---|---|---|---|---|---|---|---|---|---|---|---|---|---|---|---|---|---|---|---|---|---|---|---|---|---|---|---|---|---|---|---|---|---|\n",
       "| Leon Draisaitl   | EDM | C    | 65 | 1475.133 | 39 | 63 | 37 | 26 | 102 | 81.599999999999994 | 202 | 19.309999999999999 | 27.05 | 372 | 278 | 248 | 90 | 16 | 25 | 16 |  8 |  8 | 0 | 0 | 19 | 77 | 53 | 25 |  83 | 19 | 595 | 554 | 51.78 |\n",
       "| David Pastrnak   | BOS | R    | 66 | 1257.817 | 47 | 44 | 29 | 15 |  91 | 78.45              | 257 | 18.29              | 23.46 | 478 | 355 | 247 | 91 |  9 | 30 | 38 | 19 | 19 | 0 | 0 | 25 | 87 | 49 | 45 | 107 | 20 |   7 |  11 | 38.89 |\n",
       "| Artemi Panarin   | NYR | C, L | 64 | 1302.850 | 32 | 58 | 30 | 28 |  90 | 75.63              | 196 | 16.329999999999998 | 16.92 | 377 | 280 | 192 | 42 |  9 | 24 | 18 |  9 |  9 | 0 | 0 | 14 | 75 | 50 | 23 |  48 | 17 |   1 |   1 | 50    |\n",
       "| Connor McDavid   | EDM | C    | 59 | 1297.217 | 31 | 58 | 35 | 23 |  89 | 78.069999999999993 | 197 | 15.74              | 20.67 | 316 | 246 | 219 | 93 | 15 | 21 | 28 | 14 | 14 | 0 | 0 | 23 | 74 | 51 | 34 |  54 | 18 | 289 | 316 | 47.77 |\n",
       "| Nathan MacKinnon | COL | C    | 64 | 1364.133 | 33 | 52 | 33 | 19 |  85 | 77.27              | 298 | 11.07              | 22.69 | 510 | 375 | 256 | 65 | 12 | 33 | 12 |  5 |  5 | 0 | 0 | 22 | 52 | 37 | 49 |  74 | 30 | 340 | 455 | 42.77 |\n",
       "| Brad Marchand    | BOS | C, L | 66 | 1293.783 | 27 | 56 | 35 | 21 |  83 | 69.17              | 179 | 15.08              | 20.12 | 291 | 232 | 183 | 72 |  8 | 16 | 72 | 28 | 25 | 2 | 1 | 42 | 68 | 41 | 53 |  90 | 18 |  20 |  29 | 40.82 |\n",
       "\n"
      ],
      "text/plain": [
       "  Player           Team Position GP TOI      Goals Total Assists First Assists\n",
       "1 Leon Draisaitl   EDM  C        65 1475.133 39    63            37           \n",
       "2 David Pastrnak   BOS  R        66 1257.817 47    44            29           \n",
       "3 Artemi Panarin   NYR  C, L     64 1302.850 32    58            30           \n",
       "4 Connor McDavid   EDM  C        59 1297.217 31    58            35           \n",
       "5 Nathan MacKinnon COL  C        64 1364.133 33    52            33           \n",
       "6 Brad Marchand    BOS  C, L     66 1293.783 27    56            35           \n",
       "  Second Assists Total Points IPP                Shots SH%                ixG  \n",
       "1 26             102          81.599999999999994 202   19.309999999999999 27.05\n",
       "2 15              91          78.45              257   18.29              23.46\n",
       "3 28              90          75.63              196   16.329999999999998 16.92\n",
       "4 23              89          78.069999999999993 197   15.74              20.67\n",
       "5 19              85          77.27              298   11.07              22.69\n",
       "6 21              83          69.17              179   15.08              20.12\n",
       "  iCF iFF iSCF iHDCF Rush Attempts Rebounds Created PIM Total Penalties Minor\n",
       "1 372 278 248  90    16            25               16   8               8   \n",
       "2 478 355 247  91     9            30               38  19              19   \n",
       "3 377 280 192  42     9            24               18   9               9   \n",
       "4 316 246 219  93    15            21               28  14              14   \n",
       "5 510 375 256  65    12            33               12   5               5   \n",
       "6 291 232 183  72     8            16               72  28              25   \n",
       "  Major Misconduct Penalties Drawn Giveaways Takeaways Hits Hits Taken\n",
       "1 0     0          19              77        53        25    83       \n",
       "2 0     0          25              87        49        45   107       \n",
       "3 0     0          14              75        50        23    48       \n",
       "4 0     0          23              74        51        34    54       \n",
       "5 0     0          22              52        37        49    74       \n",
       "6 2     1          42              68        41        53    90       \n",
       "  Shots Blocked Faceoffs Won Faceoffs Lost Faceoffs %\n",
       "1 19            595          554           51.78     \n",
       "2 20              7           11           38.89     \n",
       "3 17              1            1           50        \n",
       "4 18            289          316           47.77     \n",
       "5 30            340          455           42.77     \n",
       "6 18             20           29           40.82     "
      ]
     },
     "metadata": {},
     "output_type": "display_data"
    }
   ],
   "source": [
    "options(repr.matrix.max.cols=34, repr.matrix.max.rows=10)\n",
    "head(salary_df)\n",
    "head(stat_df) "
   ]
  },
  {
   "cell_type": "markdown",
   "id": "b12a17d4-647f-42c7-b77a-1d9eacb60cc9",
   "metadata": {},
   "source": [
    "## Tidying the Data"
   ]
  },
  {
   "cell_type": "markdown",
   "id": "82939ac9-aa35-4750-934b-bd9e58374125",
   "metadata": {},
   "source": [
    "Let's merge the two to get one data set."
   ]
  },
  {
   "cell_type": "code",
   "execution_count": 5,
   "id": "110ec087-b438-4899-aa2e-079fc80c0b3e",
   "metadata": {},
   "outputs": [
    {
     "data": {
      "text/html": [
       "<table class=\"dataframe\">\n",
       "<caption>A data.frame: 6 × 37</caption>\n",
       "<thead>\n",
       "\t<tr><th></th><th scope=col>Player</th><th scope=col>Tm</th><th scope=col>Salary</th><th scope=col>Cap Hit</th><th scope=col>Team</th><th scope=col>Position</th><th scope=col>GP</th><th scope=col>TOI</th><th scope=col>Goals</th><th scope=col>Total Assists</th><th scope=col>First Assists</th><th scope=col>Second Assists</th><th scope=col>Total Points</th><th scope=col>IPP</th><th scope=col>Shots</th><th scope=col>⋯</th><th scope=col>Rebounds Created</th><th scope=col>PIM</th><th scope=col>Total Penalties</th><th scope=col>Minor</th><th scope=col>Major</th><th scope=col>Misconduct</th><th scope=col>Penalties Drawn</th><th scope=col>Giveaways</th><th scope=col>Takeaways</th><th scope=col>Hits</th><th scope=col>Hits Taken</th><th scope=col>Shots Blocked</th><th scope=col>Faceoffs Won</th><th scope=col>Faceoffs Lost</th><th scope=col>Faceoffs %</th></tr>\n",
       "\t<tr><th></th><th scope=col>&lt;chr&gt;</th><th scope=col>&lt;chr&gt;</th><th scope=col>&lt;dbl&gt;</th><th scope=col>&lt;chr&gt;</th><th scope=col>&lt;chr&gt;</th><th scope=col>&lt;chr&gt;</th><th scope=col>&lt;dbl&gt;</th><th scope=col>&lt;dbl&gt;</th><th scope=col>&lt;dbl&gt;</th><th scope=col>&lt;dbl&gt;</th><th scope=col>&lt;dbl&gt;</th><th scope=col>&lt;dbl&gt;</th><th scope=col>&lt;dbl&gt;</th><th scope=col>&lt;chr&gt;</th><th scope=col>&lt;dbl&gt;</th><th scope=col>⋯</th><th scope=col>&lt;dbl&gt;</th><th scope=col>&lt;dbl&gt;</th><th scope=col>&lt;dbl&gt;</th><th scope=col>&lt;dbl&gt;</th><th scope=col>&lt;dbl&gt;</th><th scope=col>&lt;dbl&gt;</th><th scope=col>&lt;dbl&gt;</th><th scope=col>&lt;dbl&gt;</th><th scope=col>&lt;dbl&gt;</th><th scope=col>&lt;dbl&gt;</th><th scope=col>&lt;dbl&gt;</th><th scope=col>&lt;dbl&gt;</th><th scope=col>&lt;dbl&gt;</th><th scope=col>&lt;dbl&gt;</th><th scope=col>&lt;chr&gt;</th></tr>\n",
       "</thead>\n",
       "<tbody>\n",
       "\t<tr><th scope=row>1</th><td>Aaron Ekblad </td><td>FLA</td><td>9000000</td><td>7500000</td><td>FLA</td><td>D</td><td>64</td><td>1465.1333</td><td> 5</td><td>34</td><td>22</td><td>12</td><td>39</td><td>44.32</td><td>145</td><td>⋯</td><td>15</td><td>24</td><td>12</td><td>12</td><td>0</td><td>0</td><td> 9</td><td>66</td><td>35</td><td> 33</td><td>53</td><td>79</td><td>  0</td><td>  0</td><td>-    </td></tr>\n",
       "\t<tr><th scope=row>2</th><td>Aaron Ness   </td><td>ARI</td><td> 725000</td><td>725000 </td><td>ARI</td><td>D</td><td>24</td><td> 300.8333</td><td> 0</td><td> 1</td><td> 1</td><td> 0</td><td> 1</td><td>7.69 </td><td> 11</td><td>⋯</td><td> 0</td><td> 0</td><td> 0</td><td> 0</td><td>0</td><td>0</td><td> 5</td><td> 8</td><td> 1</td><td> 17</td><td>49</td><td>20</td><td>  0</td><td>  0</td><td>-    </td></tr>\n",
       "\t<tr><th scope=row>3</th><td>Adam Boqvist </td><td>CHI</td><td> 925000</td><td>894167 </td><td>CHI</td><td>D</td><td>38</td><td> 619.5000</td><td> 4</td><td> 5</td><td> 3</td><td> 2</td><td> 9</td><td>29.03</td><td> 47</td><td>⋯</td><td> 5</td><td> 6</td><td> 3</td><td> 3</td><td>0</td><td>0</td><td> 7</td><td>26</td><td>10</td><td> 30</td><td>54</td><td>39</td><td>  0</td><td>  0</td><td>-    </td></tr>\n",
       "\t<tr><th scope=row>4</th><td>Adam Erne    </td><td>DET</td><td>1050000</td><td>1050000</td><td>DET</td><td>L</td><td>56</td><td> 661.7000</td><td> 2</td><td> 3</td><td> 3</td><td> 0</td><td> 5</td><td>55.56</td><td> 63</td><td>⋯</td><td> 5</td><td>28</td><td>10</td><td> 9</td><td>0</td><td>1</td><td> 6</td><td>27</td><td> 5</td><td>142</td><td>32</td><td>25</td><td> 20</td><td> 13</td><td>60.61</td></tr>\n",
       "\t<tr><th scope=row>5</th><td>Adam Fox     </td><td>NYR</td><td> 925000</td><td>925000 </td><td>NYR</td><td>D</td><td>65</td><td>1222.6667</td><td> 7</td><td>28</td><td>18</td><td>10</td><td>35</td><td>45.45</td><td>120</td><td>⋯</td><td>15</td><td>26</td><td>13</td><td>13</td><td>0</td><td>0</td><td>10</td><td>57</td><td>55</td><td> 32</td><td>87</td><td>86</td><td>  0</td><td>  0</td><td>-    </td></tr>\n",
       "\t<tr><th scope=row>6</th><td>Adam Gaudette</td><td>VAN</td><td> 925000</td><td>916667 </td><td>VAN</td><td>C</td><td>55</td><td> 688.6833</td><td>11</td><td>19</td><td> 6</td><td>13</td><td>30</td><td>73.17</td><td> 71</td><td>⋯</td><td> 6</td><td>35</td><td>11</td><td> 9</td><td>1</td><td>1</td><td> 9</td><td>15</td><td>23</td><td> 28</td><td>39</td><td>17</td><td>173</td><td>255</td><td>40.42</td></tr>\n",
       "</tbody>\n",
       "</table>\n"
      ],
      "text/latex": [
       "A data.frame: 6 × 37\n",
       "\\begin{tabular}{r|lllllllllllllllllllllllllllllll}\n",
       "  & Player & Tm & Salary & Cap Hit & Team & Position & GP & TOI & Goals & Total Assists & First Assists & Second Assists & Total Points & IPP & Shots & ⋯ & Rebounds Created & PIM & Total Penalties & Minor & Major & Misconduct & Penalties Drawn & Giveaways & Takeaways & Hits & Hits Taken & Shots Blocked & Faceoffs Won & Faceoffs Lost & Faceoffs \\%\\\\\n",
       "  & <chr> & <chr> & <dbl> & <chr> & <chr> & <chr> & <dbl> & <dbl> & <dbl> & <dbl> & <dbl> & <dbl> & <dbl> & <chr> & <dbl> & ⋯ & <dbl> & <dbl> & <dbl> & <dbl> & <dbl> & <dbl> & <dbl> & <dbl> & <dbl> & <dbl> & <dbl> & <dbl> & <dbl> & <dbl> & <chr>\\\\\n",
       "\\hline\n",
       "\t1 & Aaron Ekblad  & FLA & 9000000 & 7500000 & FLA & D & 64 & 1465.1333 &  5 & 34 & 22 & 12 & 39 & 44.32 & 145 & ⋯ & 15 & 24 & 12 & 12 & 0 & 0 &  9 & 66 & 35 &  33 & 53 & 79 &   0 &   0 & -    \\\\\n",
       "\t2 & Aaron Ness    & ARI &  725000 & 725000  & ARI & D & 24 &  300.8333 &  0 &  1 &  1 &  0 &  1 & 7.69  &  11 & ⋯ &  0 &  0 &  0 &  0 & 0 & 0 &  5 &  8 &  1 &  17 & 49 & 20 &   0 &   0 & -    \\\\\n",
       "\t3 & Adam Boqvist  & CHI &  925000 & 894167  & CHI & D & 38 &  619.5000 &  4 &  5 &  3 &  2 &  9 & 29.03 &  47 & ⋯ &  5 &  6 &  3 &  3 & 0 & 0 &  7 & 26 & 10 &  30 & 54 & 39 &   0 &   0 & -    \\\\\n",
       "\t4 & Adam Erne     & DET & 1050000 & 1050000 & DET & L & 56 &  661.7000 &  2 &  3 &  3 &  0 &  5 & 55.56 &  63 & ⋯ &  5 & 28 & 10 &  9 & 0 & 1 &  6 & 27 &  5 & 142 & 32 & 25 &  20 &  13 & 60.61\\\\\n",
       "\t5 & Adam Fox      & NYR &  925000 & 925000  & NYR & D & 65 & 1222.6667 &  7 & 28 & 18 & 10 & 35 & 45.45 & 120 & ⋯ & 15 & 26 & 13 & 13 & 0 & 0 & 10 & 57 & 55 &  32 & 87 & 86 &   0 &   0 & -    \\\\\n",
       "\t6 & Adam Gaudette & VAN &  925000 & 916667  & VAN & C & 55 &  688.6833 & 11 & 19 &  6 & 13 & 30 & 73.17 &  71 & ⋯ &  6 & 35 & 11 &  9 & 1 & 1 &  9 & 15 & 23 &  28 & 39 & 17 & 173 & 255 & 40.42\\\\\n",
       "\\end{tabular}\n"
      ],
      "text/markdown": [
       "\n",
       "A data.frame: 6 × 37\n",
       "\n",
       "| <!--/--> | Player &lt;chr&gt; | Tm &lt;chr&gt; | Salary &lt;dbl&gt; | Cap Hit &lt;chr&gt; | Team &lt;chr&gt; | Position &lt;chr&gt; | GP &lt;dbl&gt; | TOI &lt;dbl&gt; | Goals &lt;dbl&gt; | Total Assists &lt;dbl&gt; | First Assists &lt;dbl&gt; | Second Assists &lt;dbl&gt; | Total Points &lt;dbl&gt; | IPP &lt;chr&gt; | Shots &lt;dbl&gt; | ⋯ ⋯ | Rebounds Created &lt;dbl&gt; | PIM &lt;dbl&gt; | Total Penalties &lt;dbl&gt; | Minor &lt;dbl&gt; | Major &lt;dbl&gt; | Misconduct &lt;dbl&gt; | Penalties Drawn &lt;dbl&gt; | Giveaways &lt;dbl&gt; | Takeaways &lt;dbl&gt; | Hits &lt;dbl&gt; | Hits Taken &lt;dbl&gt; | Shots Blocked &lt;dbl&gt; | Faceoffs Won &lt;dbl&gt; | Faceoffs Lost &lt;dbl&gt; | Faceoffs % &lt;chr&gt; |\n",
       "|---|---|---|---|---|---|---|---|---|---|---|---|---|---|---|---|---|---|---|---|---|---|---|---|---|---|---|---|---|---|---|---|\n",
       "| 1 | Aaron Ekblad  | FLA | 9000000 | 7500000 | FLA | D | 64 | 1465.1333 |  5 | 34 | 22 | 12 | 39 | 44.32 | 145 | ⋯ | 15 | 24 | 12 | 12 | 0 | 0 |  9 | 66 | 35 |  33 | 53 | 79 |   0 |   0 | -     |\n",
       "| 2 | Aaron Ness    | ARI |  725000 | 725000  | ARI | D | 24 |  300.8333 |  0 |  1 |  1 |  0 |  1 | 7.69  |  11 | ⋯ |  0 |  0 |  0 |  0 | 0 | 0 |  5 |  8 |  1 |  17 | 49 | 20 |   0 |   0 | -     |\n",
       "| 3 | Adam Boqvist  | CHI |  925000 | 894167  | CHI | D | 38 |  619.5000 |  4 |  5 |  3 |  2 |  9 | 29.03 |  47 | ⋯ |  5 |  6 |  3 |  3 | 0 | 0 |  7 | 26 | 10 |  30 | 54 | 39 |   0 |   0 | -     |\n",
       "| 4 | Adam Erne     | DET | 1050000 | 1050000 | DET | L | 56 |  661.7000 |  2 |  3 |  3 |  0 |  5 | 55.56 |  63 | ⋯ |  5 | 28 | 10 |  9 | 0 | 1 |  6 | 27 |  5 | 142 | 32 | 25 |  20 |  13 | 60.61 |\n",
       "| 5 | Adam Fox      | NYR |  925000 | 925000  | NYR | D | 65 | 1222.6667 |  7 | 28 | 18 | 10 | 35 | 45.45 | 120 | ⋯ | 15 | 26 | 13 | 13 | 0 | 0 | 10 | 57 | 55 |  32 | 87 | 86 |   0 |   0 | -     |\n",
       "| 6 | Adam Gaudette | VAN |  925000 | 916667  | VAN | C | 55 |  688.6833 | 11 | 19 |  6 | 13 | 30 | 73.17 |  71 | ⋯ |  6 | 35 | 11 |  9 | 1 | 1 |  9 | 15 | 23 |  28 | 39 | 17 | 173 | 255 | 40.42 |\n",
       "\n"
      ],
      "text/plain": [
       "  Player        Tm  Salary  Cap Hit Team Position GP TOI       Goals\n",
       "1 Aaron Ekblad  FLA 9000000 7500000 FLA  D        64 1465.1333  5   \n",
       "2 Aaron Ness    ARI  725000 725000  ARI  D        24  300.8333  0   \n",
       "3 Adam Boqvist  CHI  925000 894167  CHI  D        38  619.5000  4   \n",
       "4 Adam Erne     DET 1050000 1050000 DET  L        56  661.7000  2   \n",
       "5 Adam Fox      NYR  925000 925000  NYR  D        65 1222.6667  7   \n",
       "6 Adam Gaudette VAN  925000 916667  VAN  C        55  688.6833 11   \n",
       "  Total Assists First Assists Second Assists Total Points IPP   Shots ⋯\n",
       "1 34            22            12             39           44.32 145   ⋯\n",
       "2  1             1             0              1           7.69   11   ⋯\n",
       "3  5             3             2              9           29.03  47   ⋯\n",
       "4  3             3             0              5           55.56  63   ⋯\n",
       "5 28            18            10             35           45.45 120   ⋯\n",
       "6 19             6            13             30           73.17  71   ⋯\n",
       "  Rebounds Created PIM Total Penalties Minor Major Misconduct Penalties Drawn\n",
       "1 15               24  12              12    0     0           9             \n",
       "2  0                0   0               0    0     0           5             \n",
       "3  5                6   3               3    0     0           7             \n",
       "4  5               28  10               9    0     1           6             \n",
       "5 15               26  13              13    0     0          10             \n",
       "6  6               35  11               9    1     1           9             \n",
       "  Giveaways Takeaways Hits Hits Taken Shots Blocked Faceoffs Won Faceoffs Lost\n",
       "1 66        35         33  53         79              0            0          \n",
       "2  8         1         17  49         20              0            0          \n",
       "3 26        10         30  54         39              0            0          \n",
       "4 27         5        142  32         25             20           13          \n",
       "5 57        55         32  87         86              0            0          \n",
       "6 15        23         28  39         17            173          255          \n",
       "  Faceoffs %\n",
       "1 -         \n",
       "2 -         \n",
       "3 -         \n",
       "4 60.61     \n",
       "5 -         \n",
       "6 40.42     "
      ]
     },
     "metadata": {},
     "output_type": "display_data"
    }
   ],
   "source": [
    "options(repr.matrix.max.cols=30, repr.matrix.max.rows=10)\n",
    "df <- merge(salary_df,stat_df,by=\"Player\")\n",
    "head(df)"
   ]
  },
  {
   "cell_type": "markdown",
   "id": "33accc89-5d82-4508-96e0-dc163dded73d",
   "metadata": {},
   "source": [
    "Let's make the column names easier to work with by replacing the spaces with periods."
   ]
  },
  {
   "cell_type": "code",
   "execution_count": 6,
   "id": "588572c0-682e-4fb9-b852-002237476c96",
   "metadata": {
    "tags": []
   },
   "outputs": [],
   "source": [
    "colnames(df) <- make.names(colnames(df))"
   ]
  },
  {
   "cell_type": "code",
   "execution_count": 7,
   "id": "c3269645-a364-4aa8-9a60-618e1a8ae2fc",
   "metadata": {},
   "outputs": [],
   "source": [
    "df_F <- df %>%\n",
    "filter(GP > 5) "
   ]
  },
  {
   "cell_type": "markdown",
   "id": "9410ca4d-09e6-4881-8a55-110acfa12d4c",
   "metadata": {},
   "source": [
    "We can get rid of some of the columns right of the bat, like some non-numerical columns. I'm also going to eliminate the faceoff columns due to the amount of missing data. Cap Hit is another way of measuring the income a player makes. Since we're predicting salary let's remove the Cap Hit column.\n",
    "iCF, iFF, iSCF, and iHDCF are all related to shots/scoring chances so in order to make our model more efficient let's just keep iHDCF (high danger scoring chance outside of shootouts). For the same reason, let's remove Minor, Major, and Total Penalties and we will keep PIM (Penalty minutes). Let's also just keep total assists and remove 1st assists and 2nd assists."
   ]
  },
  {
   "cell_type": "code",
   "execution_count": 8,
   "id": "1379b385-7d73-49b4-aebc-c38fb6b24bcb",
   "metadata": {},
   "outputs": [],
   "source": [
    "df_tidy <- df_F %>%\n",
    "select(-Player, -Tm, -Cap.Hit:-Position, -Faceoffs.Won:-Faceoffs.., -iCF, -iFF,\n",
    "       -iSCF, -Total.Penalties, -Minor, -Major, -First.Assists, -Second.Assists)"
   ]
  },
  {
   "cell_type": "markdown",
   "id": "7531f29e-f917-4921-beca-33894cd6d4ac",
   "metadata": {},
   "source": [
    "Let's also make sure each column has the correct data type listed"
   ]
  },
  {
   "cell_type": "code",
   "execution_count": 9,
   "id": "9f5985a1-c9a9-45f9-890a-15fb23dec413",
   "metadata": {
    "tags": []
   },
   "outputs": [],
   "source": [
    "df_tidy$IPP <- as.double(df_tidy$IPP)\n",
    "df_tidy$SH. <- as.double(df_tidy$SH.)"
   ]
  },
  {
   "cell_type": "markdown",
   "id": "a2c23558-a46b-45e7-a889-c56ccf01dc57",
   "metadata": {},
   "source": [
    "A couple values that were listed as \"inf\" became NA values which means the same thing."
   ]
  },
  {
   "cell_type": "markdown",
   "id": "e908a1f9-342f-4ee3-b97f-59ce2d961363",
   "metadata": {},
   "source": [
    "Let's also rename \"SH.\" to be \"SH\" and eliminate rows with na values."
   ]
  },
  {
   "cell_type": "code",
   "execution_count": 10,
   "id": "7c0896b6-550e-41f7-b427-5d45691672a4",
   "metadata": {},
   "outputs": [],
   "source": [
    "df_tidy <- df_tidy %>%\n",
    "mutate(SH = SH.) %>%\n",
    "select(-SH.)"
   ]
  },
  {
   "cell_type": "code",
   "execution_count": 11,
   "id": "8aa405a3-c577-43ac-a8ec-84ac4d697a21",
   "metadata": {},
   "outputs": [
    {
     "data": {
      "text/html": [
       "<table class=\"dataframe\">\n",
       "<caption>A data.frame: 611 × 21</caption>\n",
       "<thead>\n",
       "\t<tr><th></th><th scope=col>Salary</th><th scope=col>GP</th><th scope=col>TOI</th><th scope=col>Goals</th><th scope=col>Total.Assists</th><th scope=col>Total.Points</th><th scope=col>IPP</th><th scope=col>Shots</th><th scope=col>ixG</th><th scope=col>iHDCF</th><th scope=col>Rush.Attempts</th><th scope=col>Rebounds.Created</th><th scope=col>PIM</th><th scope=col>Misconduct</th><th scope=col>Penalties.Drawn</th><th scope=col>Giveaways</th><th scope=col>Takeaways</th><th scope=col>Hits</th><th scope=col>Hits.Taken</th><th scope=col>Shots.Blocked</th><th scope=col>SH</th></tr>\n",
       "\t<tr><th></th><th scope=col>&lt;dbl&gt;</th><th scope=col>&lt;dbl&gt;</th><th scope=col>&lt;dbl&gt;</th><th scope=col>&lt;dbl&gt;</th><th scope=col>&lt;dbl&gt;</th><th scope=col>&lt;dbl&gt;</th><th scope=col>&lt;dbl&gt;</th><th scope=col>&lt;dbl&gt;</th><th scope=col>&lt;dbl&gt;</th><th scope=col>&lt;dbl&gt;</th><th scope=col>&lt;dbl&gt;</th><th scope=col>&lt;dbl&gt;</th><th scope=col>&lt;dbl&gt;</th><th scope=col>&lt;dbl&gt;</th><th scope=col>&lt;dbl&gt;</th><th scope=col>&lt;dbl&gt;</th><th scope=col>&lt;dbl&gt;</th><th scope=col>&lt;dbl&gt;</th><th scope=col>&lt;dbl&gt;</th><th scope=col>&lt;dbl&gt;</th><th scope=col>&lt;dbl&gt;</th></tr>\n",
       "</thead>\n",
       "<tbody>\n",
       "\t<tr><th scope=row>1</th><td>9000000</td><td>64</td><td>1465.1333</td><td>5</td><td>34</td><td>39</td><td>44.32</td><td>145</td><td>6.64</td><td>18</td><td>6</td><td>15</td><td>24</td><td>0</td><td> 9</td><td>66</td><td>35</td><td> 33</td><td>53</td><td>79</td><td>3.45</td></tr>\n",
       "\t<tr><th scope=row>2</th><td> 725000</td><td>24</td><td> 300.8333</td><td>0</td><td> 1</td><td> 1</td><td> 7.69</td><td> 11</td><td>0.40</td><td> 0</td><td>0</td><td> 0</td><td> 0</td><td>0</td><td> 5</td><td> 8</td><td> 1</td><td> 17</td><td>49</td><td>20</td><td>0.00</td></tr>\n",
       "\t<tr><th scope=row>3</th><td> 925000</td><td>38</td><td> 619.5000</td><td>4</td><td> 5</td><td> 9</td><td>29.03</td><td> 47</td><td>2.81</td><td> 5</td><td>1</td><td> 5</td><td> 6</td><td>0</td><td> 7</td><td>26</td><td>10</td><td> 30</td><td>54</td><td>39</td><td>8.51</td></tr>\n",
       "\t<tr><th scope=row>4</th><td>1050000</td><td>56</td><td> 661.7000</td><td>2</td><td> 3</td><td> 5</td><td>55.56</td><td> 63</td><td>5.21</td><td>33</td><td>7</td><td> 5</td><td>28</td><td>1</td><td> 6</td><td>27</td><td> 5</td><td>142</td><td>32</td><td>25</td><td>3.17</td></tr>\n",
       "\t<tr><th scope=row>5</th><td> 925000</td><td>65</td><td>1222.6667</td><td>7</td><td>28</td><td>35</td><td>45.45</td><td>120</td><td>8.14</td><td>19</td><td>2</td><td>15</td><td>26</td><td>0</td><td>10</td><td>57</td><td>55</td><td> 32</td><td>87</td><td>86</td><td>5.83</td></tr>\n",
       "\t<tr><th scope=row>⋮</th><td>⋮</td><td>⋮</td><td>⋮</td><td>⋮</td><td>⋮</td><td>⋮</td><td>⋮</td><td>⋮</td><td>⋮</td><td>⋮</td><td>⋮</td><td>⋮</td><td>⋮</td><td>⋮</td><td>⋮</td><td>⋮</td><td>⋮</td><td>⋮</td><td>⋮</td><td>⋮</td><td>⋮</td></tr>\n",
       "\t<tr><th scope=row>607</th><td>2000000</td><td>53</td><td> 845.0667</td><td>14</td><td>16</td><td>30</td><td>58.82</td><td>88</td><td>10.37</td><td>63</td><td>8</td><td>9</td><td>69</td><td>2</td><td>10</td><td>39</td><td>22</td><td>142</td><td>53</td><td> 7</td><td>15.91</td></tr>\n",
       "\t<tr><th scope=row>608</th><td> 925000</td><td>13</td><td> 131.8333</td><td> 2</td><td> 1</td><td> 3</td><td>50.00</td><td>11</td><td> 1.08</td><td> 7</td><td>1</td><td>1</td><td>16</td><td>0</td><td> 4</td><td> 7</td><td> 2</td><td> 30</td><td>17</td><td> 3</td><td>18.18</td></tr>\n",
       "\t<tr><th scope=row>609</th><td>3250000</td><td>50</td><td> 589.3333</td><td> 4</td><td> 7</td><td>11</td><td>57.89</td><td>43</td><td> 3.24</td><td>22</td><td>5</td><td>7</td><td>29</td><td>0</td><td> 6</td><td>14</td><td>21</td><td>112</td><td>71</td><td>18</td><td> 9.30</td></tr>\n",
       "\t<tr><th scope=row>610</th><td>2000000</td><td>64</td><td>1343.1000</td><td> 5</td><td> 8</td><td>13</td><td>20.63</td><td>82</td><td> 2.84</td><td> 3</td><td>2</td><td>7</td><td>55</td><td>0</td><td>13</td><td>50</td><td>24</td><td> 72</td><td>61</td><td>91</td><td> 6.10</td></tr>\n",
       "\t<tr><th scope=row>611</th><td>1600000</td><td>65</td><td> 891.9167</td><td>12</td><td> 7</td><td>19</td><td>70.37</td><td>79</td><td> 9.39</td><td>43</td><td>4</td><td>7</td><td>10</td><td>0</td><td> 6</td><td>11</td><td>12</td><td>104</td><td>69</td><td>18</td><td>15.19</td></tr>\n",
       "</tbody>\n",
       "</table>\n"
      ],
      "text/latex": [
       "A data.frame: 611 × 21\n",
       "\\begin{tabular}{r|lllllllllllllllllllll}\n",
       "  & Salary & GP & TOI & Goals & Total.Assists & Total.Points & IPP & Shots & ixG & iHDCF & Rush.Attempts & Rebounds.Created & PIM & Misconduct & Penalties.Drawn & Giveaways & Takeaways & Hits & Hits.Taken & Shots.Blocked & SH\\\\\n",
       "  & <dbl> & <dbl> & <dbl> & <dbl> & <dbl> & <dbl> & <dbl> & <dbl> & <dbl> & <dbl> & <dbl> & <dbl> & <dbl> & <dbl> & <dbl> & <dbl> & <dbl> & <dbl> & <dbl> & <dbl> & <dbl>\\\\\n",
       "\\hline\n",
       "\t1 & 9000000 & 64 & 1465.1333 & 5 & 34 & 39 & 44.32 & 145 & 6.64 & 18 & 6 & 15 & 24 & 0 &  9 & 66 & 35 &  33 & 53 & 79 & 3.45\\\\\n",
       "\t2 &  725000 & 24 &  300.8333 & 0 &  1 &  1 &  7.69 &  11 & 0.40 &  0 & 0 &  0 &  0 & 0 &  5 &  8 &  1 &  17 & 49 & 20 & 0.00\\\\\n",
       "\t3 &  925000 & 38 &  619.5000 & 4 &  5 &  9 & 29.03 &  47 & 2.81 &  5 & 1 &  5 &  6 & 0 &  7 & 26 & 10 &  30 & 54 & 39 & 8.51\\\\\n",
       "\t4 & 1050000 & 56 &  661.7000 & 2 &  3 &  5 & 55.56 &  63 & 5.21 & 33 & 7 &  5 & 28 & 1 &  6 & 27 &  5 & 142 & 32 & 25 & 3.17\\\\\n",
       "\t5 &  925000 & 65 & 1222.6667 & 7 & 28 & 35 & 45.45 & 120 & 8.14 & 19 & 2 & 15 & 26 & 0 & 10 & 57 & 55 &  32 & 87 & 86 & 5.83\\\\\n",
       "\t⋮ & ⋮ & ⋮ & ⋮ & ⋮ & ⋮ & ⋮ & ⋮ & ⋮ & ⋮ & ⋮ & ⋮ & ⋮ & ⋮ & ⋮ & ⋮ & ⋮ & ⋮ & ⋮ & ⋮ & ⋮ & ⋮\\\\\n",
       "\t607 & 2000000 & 53 &  845.0667 & 14 & 16 & 30 & 58.82 & 88 & 10.37 & 63 & 8 & 9 & 69 & 2 & 10 & 39 & 22 & 142 & 53 &  7 & 15.91\\\\\n",
       "\t608 &  925000 & 13 &  131.8333 &  2 &  1 &  3 & 50.00 & 11 &  1.08 &  7 & 1 & 1 & 16 & 0 &  4 &  7 &  2 &  30 & 17 &  3 & 18.18\\\\\n",
       "\t609 & 3250000 & 50 &  589.3333 &  4 &  7 & 11 & 57.89 & 43 &  3.24 & 22 & 5 & 7 & 29 & 0 &  6 & 14 & 21 & 112 & 71 & 18 &  9.30\\\\\n",
       "\t610 & 2000000 & 64 & 1343.1000 &  5 &  8 & 13 & 20.63 & 82 &  2.84 &  3 & 2 & 7 & 55 & 0 & 13 & 50 & 24 &  72 & 61 & 91 &  6.10\\\\\n",
       "\t611 & 1600000 & 65 &  891.9167 & 12 &  7 & 19 & 70.37 & 79 &  9.39 & 43 & 4 & 7 & 10 & 0 &  6 & 11 & 12 & 104 & 69 & 18 & 15.19\\\\\n",
       "\\end{tabular}\n"
      ],
      "text/markdown": [
       "\n",
       "A data.frame: 611 × 21\n",
       "\n",
       "| <!--/--> | Salary &lt;dbl&gt; | GP &lt;dbl&gt; | TOI &lt;dbl&gt; | Goals &lt;dbl&gt; | Total.Assists &lt;dbl&gt; | Total.Points &lt;dbl&gt; | IPP &lt;dbl&gt; | Shots &lt;dbl&gt; | ixG &lt;dbl&gt; | iHDCF &lt;dbl&gt; | Rush.Attempts &lt;dbl&gt; | Rebounds.Created &lt;dbl&gt; | PIM &lt;dbl&gt; | Misconduct &lt;dbl&gt; | Penalties.Drawn &lt;dbl&gt; | Giveaways &lt;dbl&gt; | Takeaways &lt;dbl&gt; | Hits &lt;dbl&gt; | Hits.Taken &lt;dbl&gt; | Shots.Blocked &lt;dbl&gt; | SH &lt;dbl&gt; |\n",
       "|---|---|---|---|---|---|---|---|---|---|---|---|---|---|---|---|---|---|---|---|---|---|\n",
       "| 1 | 9000000 | 64 | 1465.1333 | 5 | 34 | 39 | 44.32 | 145 | 6.64 | 18 | 6 | 15 | 24 | 0 |  9 | 66 | 35 |  33 | 53 | 79 | 3.45 |\n",
       "| 2 |  725000 | 24 |  300.8333 | 0 |  1 |  1 |  7.69 |  11 | 0.40 |  0 | 0 |  0 |  0 | 0 |  5 |  8 |  1 |  17 | 49 | 20 | 0.00 |\n",
       "| 3 |  925000 | 38 |  619.5000 | 4 |  5 |  9 | 29.03 |  47 | 2.81 |  5 | 1 |  5 |  6 | 0 |  7 | 26 | 10 |  30 | 54 | 39 | 8.51 |\n",
       "| 4 | 1050000 | 56 |  661.7000 | 2 |  3 |  5 | 55.56 |  63 | 5.21 | 33 | 7 |  5 | 28 | 1 |  6 | 27 |  5 | 142 | 32 | 25 | 3.17 |\n",
       "| 5 |  925000 | 65 | 1222.6667 | 7 | 28 | 35 | 45.45 | 120 | 8.14 | 19 | 2 | 15 | 26 | 0 | 10 | 57 | 55 |  32 | 87 | 86 | 5.83 |\n",
       "| ⋮ | ⋮ | ⋮ | ⋮ | ⋮ | ⋮ | ⋮ | ⋮ | ⋮ | ⋮ | ⋮ | ⋮ | ⋮ | ⋮ | ⋮ | ⋮ | ⋮ | ⋮ | ⋮ | ⋮ | ⋮ | ⋮ |\n",
       "| 607 | 2000000 | 53 |  845.0667 | 14 | 16 | 30 | 58.82 | 88 | 10.37 | 63 | 8 | 9 | 69 | 2 | 10 | 39 | 22 | 142 | 53 |  7 | 15.91 |\n",
       "| 608 |  925000 | 13 |  131.8333 |  2 |  1 |  3 | 50.00 | 11 |  1.08 |  7 | 1 | 1 | 16 | 0 |  4 |  7 |  2 |  30 | 17 |  3 | 18.18 |\n",
       "| 609 | 3250000 | 50 |  589.3333 |  4 |  7 | 11 | 57.89 | 43 |  3.24 | 22 | 5 | 7 | 29 | 0 |  6 | 14 | 21 | 112 | 71 | 18 |  9.30 |\n",
       "| 610 | 2000000 | 64 | 1343.1000 |  5 |  8 | 13 | 20.63 | 82 |  2.84 |  3 | 2 | 7 | 55 | 0 | 13 | 50 | 24 |  72 | 61 | 91 |  6.10 |\n",
       "| 611 | 1600000 | 65 |  891.9167 | 12 |  7 | 19 | 70.37 | 79 |  9.39 | 43 | 4 | 7 | 10 | 0 |  6 | 11 | 12 | 104 | 69 | 18 | 15.19 |\n",
       "\n"
      ],
      "text/plain": [
       "    Salary  GP TOI       Goals Total.Assists Total.Points IPP   Shots ixG  \n",
       "1   9000000 64 1465.1333 5     34            39           44.32 145   6.64 \n",
       "2    725000 24  300.8333 0      1             1            7.69  11   0.40 \n",
       "3    925000 38  619.5000 4      5             9           29.03  47   2.81 \n",
       "4   1050000 56  661.7000 2      3             5           55.56  63   5.21 \n",
       "5    925000 65 1222.6667 7     28            35           45.45 120   8.14 \n",
       "⋮   ⋮       ⋮  ⋮         ⋮     ⋮             ⋮            ⋮     ⋮     ⋮    \n",
       "607 2000000 53  845.0667 14    16            30           58.82 88    10.37\n",
       "608  925000 13  131.8333  2     1             3           50.00 11     1.08\n",
       "609 3250000 50  589.3333  4     7            11           57.89 43     3.24\n",
       "610 2000000 64 1343.1000  5     8            13           20.63 82     2.84\n",
       "611 1600000 65  891.9167 12     7            19           70.37 79     9.39\n",
       "    iHDCF Rush.Attempts Rebounds.Created PIM Misconduct Penalties.Drawn\n",
       "1   18    6             15               24  0           9             \n",
       "2    0    0              0                0  0           5             \n",
       "3    5    1              5                6  0           7             \n",
       "4   33    7              5               28  1           6             \n",
       "5   19    2             15               26  0          10             \n",
       "⋮   ⋮     ⋮             ⋮                ⋮   ⋮          ⋮              \n",
       "607 63    8             9                69  2          10             \n",
       "608  7    1             1                16  0           4             \n",
       "609 22    5             7                29  0           6             \n",
       "610  3    2             7                55  0          13             \n",
       "611 43    4             7                10  0           6             \n",
       "    Giveaways Takeaways Hits Hits.Taken Shots.Blocked SH   \n",
       "1   66        35         33  53         79            3.45 \n",
       "2    8         1         17  49         20            0.00 \n",
       "3   26        10         30  54         39            8.51 \n",
       "4   27         5        142  32         25            3.17 \n",
       "5   57        55         32  87         86            5.83 \n",
       "⋮   ⋮         ⋮         ⋮    ⋮          ⋮             ⋮    \n",
       "607 39        22        142  53          7            15.91\n",
       "608  7         2         30  17          3            18.18\n",
       "609 14        21        112  71         18             9.30\n",
       "610 50        24         72  61         91             6.10\n",
       "611 11        12        104  69         18            15.19"
      ]
     },
     "metadata": {},
     "output_type": "display_data"
    }
   ],
   "source": [
    "options(repr.matrix.max.cols=30, repr.matrix.max.rows=10)\n",
    "nhl_tidy <- df_tidy %>%\n",
    "na.omit()\n",
    "nhl_tidy"
   ]
  },
  {
   "cell_type": "markdown",
   "id": "a79a88ed-7e59-4b2c-b513-af38bd48a159",
   "metadata": {},
   "source": [
    "Finally, let's turn some of these variables into proportions based of off how many games the player has played"
   ]
  },
  {
   "cell_type": "code",
   "execution_count": 12,
   "id": "ab37ffe6-0d08-4fc0-8ea1-6ceed38e4dd0",
   "metadata": {},
   "outputs": [],
   "source": [
    "nhl_tidy <- nhl_tidy %>%\n",
    "mutate(TOI = TOI/GP,\n",
    "      Goals = Goals/GP,\n",
    "      Total.Assists = Total.Assists/GP,\n",
    "      Total.Points = Total.Points/GP,\n",
    "      Shots = Shots/GP,\n",
    "      iHDCF = iHDCF/GP,\n",
    "      Rush.Attempts = Rush.Attempts/GP,\n",
    "      Rebounds.Created = Rebounds.Created/GP,\n",
    "      PIM = PIM/GP,\n",
    "      Misconduct = Misconduct/GP,\n",
    "      Penalties.Drawn = Penalties.Drawn/GP,\n",
    "      Giveaways = Giveaways/GP,\n",
    "      Takeaways = Takeaways/GP,\n",
    "      Hits = Hits/GP,\n",
    "      Hits.Taken = Hits.Taken/GP,\n",
    "      Shots.Blocked = Shots.Blocked/GP)"
   ]
  },
  {
   "cell_type": "code",
   "execution_count": 13,
   "id": "7a66d284-7b52-4c99-9e0b-57d372d8404d",
   "metadata": {
    "tags": []
   },
   "outputs": [
    {
     "data": {
      "text/html": [
       "<table class=\"dataframe\">\n",
       "<caption>A data.frame: 6 × 21</caption>\n",
       "<thead>\n",
       "\t<tr><th></th><th scope=col>Salary</th><th scope=col>GP</th><th scope=col>TOI</th><th scope=col>Goals</th><th scope=col>Total.Assists</th><th scope=col>Total.Points</th><th scope=col>IPP</th><th scope=col>Shots</th><th scope=col>ixG</th><th scope=col>iHDCF</th><th scope=col>Rush.Attempts</th><th scope=col>Rebounds.Created</th><th scope=col>PIM</th><th scope=col>Misconduct</th><th scope=col>Penalties.Drawn</th><th scope=col>Giveaways</th><th scope=col>Takeaways</th><th scope=col>Hits</th><th scope=col>Hits.Taken</th><th scope=col>Shots.Blocked</th><th scope=col>SH</th></tr>\n",
       "\t<tr><th></th><th scope=col>&lt;dbl&gt;</th><th scope=col>&lt;dbl&gt;</th><th scope=col>&lt;dbl&gt;</th><th scope=col>&lt;dbl&gt;</th><th scope=col>&lt;dbl&gt;</th><th scope=col>&lt;dbl&gt;</th><th scope=col>&lt;dbl&gt;</th><th scope=col>&lt;dbl&gt;</th><th scope=col>&lt;dbl&gt;</th><th scope=col>&lt;dbl&gt;</th><th scope=col>&lt;dbl&gt;</th><th scope=col>&lt;dbl&gt;</th><th scope=col>&lt;dbl&gt;</th><th scope=col>&lt;dbl&gt;</th><th scope=col>&lt;dbl&gt;</th><th scope=col>&lt;dbl&gt;</th><th scope=col>&lt;dbl&gt;</th><th scope=col>&lt;dbl&gt;</th><th scope=col>&lt;dbl&gt;</th><th scope=col>&lt;dbl&gt;</th><th scope=col>&lt;dbl&gt;</th></tr>\n",
       "</thead>\n",
       "<tbody>\n",
       "\t<tr><th scope=row>1</th><td>9000000</td><td>64</td><td>22.89271</td><td>0.07812500</td><td>0.53125000</td><td>0.60937500</td><td>44.32</td><td>2.2656250</td><td>6.64</td><td>0.2812500</td><td>0.09375000</td><td>0.23437500</td><td>0.3750000</td><td>0.00000000</td><td>0.1406250</td><td>1.0312500</td><td>0.54687500</td><td>0.5156250</td><td>0.8281250</td><td>1.2343750</td><td> 3.45</td></tr>\n",
       "\t<tr><th scope=row>2</th><td> 725000</td><td>24</td><td>12.53472</td><td>0.00000000</td><td>0.04166667</td><td>0.04166667</td><td> 7.69</td><td>0.4583333</td><td>0.40</td><td>0.0000000</td><td>0.00000000</td><td>0.00000000</td><td>0.0000000</td><td>0.00000000</td><td>0.2083333</td><td>0.3333333</td><td>0.04166667</td><td>0.7083333</td><td>2.0416667</td><td>0.8333333</td><td> 0.00</td></tr>\n",
       "\t<tr><th scope=row>3</th><td> 925000</td><td>38</td><td>16.30263</td><td>0.10526316</td><td>0.13157895</td><td>0.23684211</td><td>29.03</td><td>1.2368421</td><td>2.81</td><td>0.1315789</td><td>0.02631579</td><td>0.13157895</td><td>0.1578947</td><td>0.00000000</td><td>0.1842105</td><td>0.6842105</td><td>0.26315789</td><td>0.7894737</td><td>1.4210526</td><td>1.0263158</td><td> 8.51</td></tr>\n",
       "\t<tr><th scope=row>4</th><td>1050000</td><td>56</td><td>11.81607</td><td>0.03571429</td><td>0.05357143</td><td>0.08928571</td><td>55.56</td><td>1.1250000</td><td>5.21</td><td>0.5892857</td><td>0.12500000</td><td>0.08928571</td><td>0.5000000</td><td>0.01785714</td><td>0.1071429</td><td>0.4821429</td><td>0.08928571</td><td>2.5357143</td><td>0.5714286</td><td>0.4464286</td><td> 3.17</td></tr>\n",
       "\t<tr><th scope=row>5</th><td> 925000</td><td>65</td><td>18.81026</td><td>0.10769231</td><td>0.43076923</td><td>0.53846154</td><td>45.45</td><td>1.8461538</td><td>8.14</td><td>0.2923077</td><td>0.03076923</td><td>0.23076923</td><td>0.4000000</td><td>0.00000000</td><td>0.1538462</td><td>0.8769231</td><td>0.84615385</td><td>0.4923077</td><td>1.3384615</td><td>1.3230769</td><td> 5.83</td></tr>\n",
       "\t<tr><th scope=row>6</th><td> 925000</td><td>55</td><td>12.52152</td><td>0.20000000</td><td>0.34545455</td><td>0.54545455</td><td>73.17</td><td>1.2909091</td><td>8.61</td><td>0.6000000</td><td>0.05454545</td><td>0.10909091</td><td>0.6363636</td><td>0.01818182</td><td>0.1636364</td><td>0.2727273</td><td>0.41818182</td><td>0.5090909</td><td>0.7090909</td><td>0.3090909</td><td>15.49</td></tr>\n",
       "</tbody>\n",
       "</table>\n"
      ],
      "text/latex": [
       "A data.frame: 6 × 21\n",
       "\\begin{tabular}{r|lllllllllllllllllllll}\n",
       "  & Salary & GP & TOI & Goals & Total.Assists & Total.Points & IPP & Shots & ixG & iHDCF & Rush.Attempts & Rebounds.Created & PIM & Misconduct & Penalties.Drawn & Giveaways & Takeaways & Hits & Hits.Taken & Shots.Blocked & SH\\\\\n",
       "  & <dbl> & <dbl> & <dbl> & <dbl> & <dbl> & <dbl> & <dbl> & <dbl> & <dbl> & <dbl> & <dbl> & <dbl> & <dbl> & <dbl> & <dbl> & <dbl> & <dbl> & <dbl> & <dbl> & <dbl> & <dbl>\\\\\n",
       "\\hline\n",
       "\t1 & 9000000 & 64 & 22.89271 & 0.07812500 & 0.53125000 & 0.60937500 & 44.32 & 2.2656250 & 6.64 & 0.2812500 & 0.09375000 & 0.23437500 & 0.3750000 & 0.00000000 & 0.1406250 & 1.0312500 & 0.54687500 & 0.5156250 & 0.8281250 & 1.2343750 &  3.45\\\\\n",
       "\t2 &  725000 & 24 & 12.53472 & 0.00000000 & 0.04166667 & 0.04166667 &  7.69 & 0.4583333 & 0.40 & 0.0000000 & 0.00000000 & 0.00000000 & 0.0000000 & 0.00000000 & 0.2083333 & 0.3333333 & 0.04166667 & 0.7083333 & 2.0416667 & 0.8333333 &  0.00\\\\\n",
       "\t3 &  925000 & 38 & 16.30263 & 0.10526316 & 0.13157895 & 0.23684211 & 29.03 & 1.2368421 & 2.81 & 0.1315789 & 0.02631579 & 0.13157895 & 0.1578947 & 0.00000000 & 0.1842105 & 0.6842105 & 0.26315789 & 0.7894737 & 1.4210526 & 1.0263158 &  8.51\\\\\n",
       "\t4 & 1050000 & 56 & 11.81607 & 0.03571429 & 0.05357143 & 0.08928571 & 55.56 & 1.1250000 & 5.21 & 0.5892857 & 0.12500000 & 0.08928571 & 0.5000000 & 0.01785714 & 0.1071429 & 0.4821429 & 0.08928571 & 2.5357143 & 0.5714286 & 0.4464286 &  3.17\\\\\n",
       "\t5 &  925000 & 65 & 18.81026 & 0.10769231 & 0.43076923 & 0.53846154 & 45.45 & 1.8461538 & 8.14 & 0.2923077 & 0.03076923 & 0.23076923 & 0.4000000 & 0.00000000 & 0.1538462 & 0.8769231 & 0.84615385 & 0.4923077 & 1.3384615 & 1.3230769 &  5.83\\\\\n",
       "\t6 &  925000 & 55 & 12.52152 & 0.20000000 & 0.34545455 & 0.54545455 & 73.17 & 1.2909091 & 8.61 & 0.6000000 & 0.05454545 & 0.10909091 & 0.6363636 & 0.01818182 & 0.1636364 & 0.2727273 & 0.41818182 & 0.5090909 & 0.7090909 & 0.3090909 & 15.49\\\\\n",
       "\\end{tabular}\n"
      ],
      "text/markdown": [
       "\n",
       "A data.frame: 6 × 21\n",
       "\n",
       "| <!--/--> | Salary &lt;dbl&gt; | GP &lt;dbl&gt; | TOI &lt;dbl&gt; | Goals &lt;dbl&gt; | Total.Assists &lt;dbl&gt; | Total.Points &lt;dbl&gt; | IPP &lt;dbl&gt; | Shots &lt;dbl&gt; | ixG &lt;dbl&gt; | iHDCF &lt;dbl&gt; | Rush.Attempts &lt;dbl&gt; | Rebounds.Created &lt;dbl&gt; | PIM &lt;dbl&gt; | Misconduct &lt;dbl&gt; | Penalties.Drawn &lt;dbl&gt; | Giveaways &lt;dbl&gt; | Takeaways &lt;dbl&gt; | Hits &lt;dbl&gt; | Hits.Taken &lt;dbl&gt; | Shots.Blocked &lt;dbl&gt; | SH &lt;dbl&gt; |\n",
       "|---|---|---|---|---|---|---|---|---|---|---|---|---|---|---|---|---|---|---|---|---|---|\n",
       "| 1 | 9000000 | 64 | 22.89271 | 0.07812500 | 0.53125000 | 0.60937500 | 44.32 | 2.2656250 | 6.64 | 0.2812500 | 0.09375000 | 0.23437500 | 0.3750000 | 0.00000000 | 0.1406250 | 1.0312500 | 0.54687500 | 0.5156250 | 0.8281250 | 1.2343750 |  3.45 |\n",
       "| 2 |  725000 | 24 | 12.53472 | 0.00000000 | 0.04166667 | 0.04166667 |  7.69 | 0.4583333 | 0.40 | 0.0000000 | 0.00000000 | 0.00000000 | 0.0000000 | 0.00000000 | 0.2083333 | 0.3333333 | 0.04166667 | 0.7083333 | 2.0416667 | 0.8333333 |  0.00 |\n",
       "| 3 |  925000 | 38 | 16.30263 | 0.10526316 | 0.13157895 | 0.23684211 | 29.03 | 1.2368421 | 2.81 | 0.1315789 | 0.02631579 | 0.13157895 | 0.1578947 | 0.00000000 | 0.1842105 | 0.6842105 | 0.26315789 | 0.7894737 | 1.4210526 | 1.0263158 |  8.51 |\n",
       "| 4 | 1050000 | 56 | 11.81607 | 0.03571429 | 0.05357143 | 0.08928571 | 55.56 | 1.1250000 | 5.21 | 0.5892857 | 0.12500000 | 0.08928571 | 0.5000000 | 0.01785714 | 0.1071429 | 0.4821429 | 0.08928571 | 2.5357143 | 0.5714286 | 0.4464286 |  3.17 |\n",
       "| 5 |  925000 | 65 | 18.81026 | 0.10769231 | 0.43076923 | 0.53846154 | 45.45 | 1.8461538 | 8.14 | 0.2923077 | 0.03076923 | 0.23076923 | 0.4000000 | 0.00000000 | 0.1538462 | 0.8769231 | 0.84615385 | 0.4923077 | 1.3384615 | 1.3230769 |  5.83 |\n",
       "| 6 |  925000 | 55 | 12.52152 | 0.20000000 | 0.34545455 | 0.54545455 | 73.17 | 1.2909091 | 8.61 | 0.6000000 | 0.05454545 | 0.10909091 | 0.6363636 | 0.01818182 | 0.1636364 | 0.2727273 | 0.41818182 | 0.5090909 | 0.7090909 | 0.3090909 | 15.49 |\n",
       "\n"
      ],
      "text/plain": [
       "  Salary  GP TOI      Goals      Total.Assists Total.Points IPP   Shots    \n",
       "1 9000000 64 22.89271 0.07812500 0.53125000    0.60937500   44.32 2.2656250\n",
       "2  725000 24 12.53472 0.00000000 0.04166667    0.04166667    7.69 0.4583333\n",
       "3  925000 38 16.30263 0.10526316 0.13157895    0.23684211   29.03 1.2368421\n",
       "4 1050000 56 11.81607 0.03571429 0.05357143    0.08928571   55.56 1.1250000\n",
       "5  925000 65 18.81026 0.10769231 0.43076923    0.53846154   45.45 1.8461538\n",
       "6  925000 55 12.52152 0.20000000 0.34545455    0.54545455   73.17 1.2909091\n",
       "  ixG  iHDCF     Rush.Attempts Rebounds.Created PIM       Misconduct\n",
       "1 6.64 0.2812500 0.09375000    0.23437500       0.3750000 0.00000000\n",
       "2 0.40 0.0000000 0.00000000    0.00000000       0.0000000 0.00000000\n",
       "3 2.81 0.1315789 0.02631579    0.13157895       0.1578947 0.00000000\n",
       "4 5.21 0.5892857 0.12500000    0.08928571       0.5000000 0.01785714\n",
       "5 8.14 0.2923077 0.03076923    0.23076923       0.4000000 0.00000000\n",
       "6 8.61 0.6000000 0.05454545    0.10909091       0.6363636 0.01818182\n",
       "  Penalties.Drawn Giveaways Takeaways  Hits      Hits.Taken Shots.Blocked SH   \n",
       "1 0.1406250       1.0312500 0.54687500 0.5156250 0.8281250  1.2343750      3.45\n",
       "2 0.2083333       0.3333333 0.04166667 0.7083333 2.0416667  0.8333333      0.00\n",
       "3 0.1842105       0.6842105 0.26315789 0.7894737 1.4210526  1.0263158      8.51\n",
       "4 0.1071429       0.4821429 0.08928571 2.5357143 0.5714286  0.4464286      3.17\n",
       "5 0.1538462       0.8769231 0.84615385 0.4923077 1.3384615  1.3230769      5.83\n",
       "6 0.1636364       0.2727273 0.41818182 0.5090909 0.7090909  0.3090909     15.49"
      ]
     },
     "metadata": {},
     "output_type": "display_data"
    }
   ],
   "source": [
    "head(nhl_tidy)"
   ]
  },
  {
   "cell_type": "markdown",
   "id": "597e1770-360c-456d-849e-5ec7fc2525e5",
   "metadata": {},
   "source": [
    "## Training and Testing"
   ]
  },
  {
   "cell_type": "markdown",
   "id": "0e8e59c0-55c5-4ce5-999f-2f015b8cda16",
   "metadata": {},
   "source": [
    "It's time to split data into training and testing"
   ]
  },
  {
   "cell_type": "code",
   "execution_count": 14,
   "id": "42f2d2e7-a7fc-400f-a11e-e2f5cfdb335f",
   "metadata": {},
   "outputs": [],
   "source": [
    "set.seed(68)\n",
    "nhl_split <- initial_split(nhl_tidy, prop = 0.75, strata = Salary)\n",
    "nhl_train <- training(nhl_split)\n",
    "nhl_test <- testing(nhl_split)"
   ]
  },
  {
   "cell_type": "markdown",
   "id": "44e78c64-76fa-4bef-aa15-9dc3ca1a3214",
   "metadata": {},
   "source": [
    "Now we can use our training data to create a model!"
   ]
  },
  {
   "cell_type": "markdown",
   "id": "e2798c2b-a861-4b85-9f90-f5fb5c8b1b11",
   "metadata": {},
   "source": [
    "## Exploring the Data"
   ]
  },
  {
   "cell_type": "markdown",
   "id": "e32df72b-0df6-4c51-83ec-673085aeb145",
   "metadata": {},
   "source": [
    "Lets explore the data first to get a sense of it."
   ]
  },
  {
   "cell_type": "markdown",
   "id": "94d503e4-f022-4623-8a3d-ceb5ea621440",
   "metadata": {},
   "source": [
    "First we can create a histogram of NHL player salaries."
   ]
  },
  {
   "cell_type": "markdown",
   "id": "9c11a4d8-5b3f-4a24-9171-1f27f9ec627b",
   "metadata": {},
   "source": [
    "Let's take a look at what the salaries look like in millions"
   ]
  },
  {
   "cell_type": "code",
   "execution_count": 15,
   "id": "a3729226-b9a0-496c-b189-aa31037261d2",
   "metadata": {},
   "outputs": [],
   "source": [
    "nhl_train_salaries_mil <- nhl_train %>%\n",
    "mutate(Salary_Mil = Salary/1000000)"
   ]
  },
  {
   "cell_type": "code",
   "execution_count": 16,
   "id": "682d5161-fbd0-4c36-8a38-50e01e26c252",
   "metadata": {},
   "outputs": [
    {
     "name": "stderr",
     "output_type": "stream",
     "text": [
      "`stat_bin()` using `bins = 30`. Pick better value with `binwidth`.\n",
      "\n"
     ]
    },
    {
     "data": {
      "image/png": "[encoded data removed]",
      "text/plain": [
       "plot without title"
      ]
     },
     "metadata": {
      "image/png": {
       "height": 420,
       "width": 420
      }
     },
     "output_type": "display_data"
    }
   ],
   "source": [
    "nhl_salary_dist_mil <- nhl_train_salaries_mil %>%\n",
    "ggplot(aes(x=Salary_Mil)) +\n",
    "geom_histogram(color=\"darkblue\", fill=\"lightblue\") +\n",
    "ggtitle(\"Distribution of NHL Player Salaries\") +\n",
    "xlab(\"Salaries (in millions USD)\") +\n",
    "ylab(\"Count\")+\n",
    "theme(text = element_text(size = 18))\n",
    "nhl_salary_dist_mil"
   ]
  },
  {
   "cell_type": "markdown",
   "id": "a9384f37-1035-4778-a08b-c3e2b6013193",
   "metadata": {},
   "source": [
    "It looks like most players are in the one to five million range while there are a couple with salaries as high as 15 million."
   ]
  },
  {
   "cell_type": "markdown",
   "id": "2cd312e9-328d-42cd-bf02-5298940ec01a",
   "metadata": {},
   "source": [
    "Let's take a look at the histograms of all the variables."
   ]
  },
  {
   "cell_type": "code",
   "execution_count": 17,
   "id": "a990aa8a-6d34-485f-bbff-db8f031b976d",
   "metadata": {},
   "outputs": [
    {
     "data": {
      "image/png": "[encoded data removed]",
      "text/plain": [
       "Plot with title “”"
      ]
     },
     "metadata": {
      "image/png": {
       "height": 420,
       "width": 420
      }
     },
     "output_type": "display_data"
    },
    {
     "data": {
      "image/png": "[encoded data removed]",
      "text/plain": [
       "Plot with title “”"
      ]
     },
     "metadata": {
      "image/png": {
       "height": 420,
       "width": 420
      }
     },
     "output_type": "display_data"
    }
   ],
   "source": [
    "many_hist <- nhl_train %>%\n",
    "hist.data.frame()"
   ]
  },
  {
   "cell_type": "markdown",
   "id": "0022282f-e1d1-44bf-9ce1-2edb6b25a981",
   "metadata": {},
   "source": [
    "Most of these histograms are uni modal and right skewed. This can tell us different things for different variables. For example, in the hits category, it seems that almost all players hit others but there are a few that do it quite frequently."
   ]
  },
  {
   "cell_type": "markdown",
   "id": "299daaa8-abe1-4657-8cee-14e9d574e858",
   "metadata": {
    "tags": []
   },
   "source": [
    "## Model"
   ]
  },
  {
   "cell_type": "markdown",
   "id": "453f7dbc-77de-4ce0-8c13-be343f67e0eb",
   "metadata": {},
   "source": [
    "Let's use a \"build up\" method to chose the best predictors for the model. We are going to try each predictor by its self to see which ones have low root mean square errors. Then, we will build up the model one by one, starting with the predictor with the lowest root mean square error. We will keep adding predictors until it doesn't seem like the model is improving."
   ]
  },
  {
   "cell_type": "markdown",
   "id": "7e843ead-35d2-470a-bb07-ae5c38d3329b",
   "metadata": {},
   "source": [
    "Let's not show the entire process for sake of conciseness, but the final result will be shown below."
   ]
  },
  {
   "cell_type": "markdown",
   "id": "c86c52aa-bea5-4e9e-9842-146d2524d475",
   "metadata": {},
   "source": [
    "**Predictors removed:** Shots.Blocked, Hits, Giveaways, GP, Total.Points, SH, Rush.Attempts, PIM, Penalties.Drawn, Takeaways, Hits.Taken, Misconduct, IPP, ixG"
   ]
  },
  {
   "cell_type": "markdown",
   "id": "6b085437-0639-4754-8fc0-d89c772c9b16",
   "metadata": {},
   "source": [
    "**Predictors kept:** TOI, Goals, Total.Assists, Shots, Rebounds.Created, iHDCF"
   ]
  },
  {
   "cell_type": "markdown",
   "id": "cdbdc41b-f2b5-4cca-b1a2-a7f6b695fe11",
   "metadata": {},
   "source": [
    "Let's use KNN regression and find the best number of neighbours to use in our model."
   ]
  },
  {
   "cell_type": "code",
   "execution_count": 18,
   "id": "2d001c05-7507-457f-99ab-3af4b5af966e",
   "metadata": {
    "tags": []
   },
   "outputs": [],
   "source": [
    "set.seed(68)\n",
    "nhl_recipe <- recipe(Salary ~ TOI + Goals + Total.Assists + Shots + Rebounds.Created + iHDCF, \n",
    "                     data = nhl_train) %>%\n",
    "step_scale(all_predictors()) %>%\n",
    "step_center(all_predictors())"
   ]
  },
  {
   "cell_type": "code",
   "execution_count": 19,
   "id": "898e55ec-15a2-466e-bf09-64955502121e",
   "metadata": {},
   "outputs": [],
   "source": [
    "set.seed(68)\n",
    "nhl_spec <- nearest_neighbor(weight_func = \"rectangular\", neighbors = tune()) %>%\n",
    "  set_engine(\"kknn\") %>%\n",
    "  set_mode(\"regression\")"
   ]
  },
  {
   "cell_type": "code",
   "execution_count": 20,
   "id": "8f758df1-4de7-4a31-9710-1804a4567ca7",
   "metadata": {},
   "outputs": [],
   "source": [
    "set.seed(68)\n",
    "nhl_vfold <- vfold_cv(nhl_train, v = 5, strata = Salary)"
   ]
  },
  {
   "cell_type": "code",
   "execution_count": 21,
   "id": "e7468125-ba9f-47c4-8f5e-02b884437968",
   "metadata": {},
   "outputs": [],
   "source": [
    "gridvals <- tibble(neighbors = seq(from = 1, to = 30, by = 1))"
   ]
  },
  {
   "cell_type": "code",
   "execution_count": 22,
   "id": "195cd857-ef5c-449f-bda6-429f4c80d503",
   "metadata": {},
   "outputs": [
    {
     "data": {
      "text/html": [
       "<table class=\"dataframe\">\n",
       "<caption>A tibble: 30 × 7</caption>\n",
       "<thead>\n",
       "\t<tr><th scope=col>neighbors</th><th scope=col>.metric</th><th scope=col>.estimator</th><th scope=col>mean</th><th scope=col>n</th><th scope=col>std_err</th><th scope=col>.config</th></tr>\n",
       "\t<tr><th scope=col>&lt;dbl&gt;</th><th scope=col>&lt;chr&gt;</th><th scope=col>&lt;chr&gt;</th><th scope=col>&lt;dbl&gt;</th><th scope=col>&lt;int&gt;</th><th scope=col>&lt;dbl&gt;</th><th scope=col>&lt;chr&gt;</th></tr>\n",
       "</thead>\n",
       "<tbody>\n",
       "\t<tr><td>1</td><td>rmse</td><td>standard</td><td>2619062</td><td>5</td><td>190375.1</td><td>Preprocessor1_Model01</td></tr>\n",
       "\t<tr><td>2</td><td>rmse</td><td>standard</td><td>2223367</td><td>5</td><td>182136.1</td><td>Preprocessor1_Model02</td></tr>\n",
       "\t<tr><td>3</td><td>rmse</td><td>standard</td><td>2193969</td><td>5</td><td>165449.9</td><td>Preprocessor1_Model03</td></tr>\n",
       "\t<tr><td>4</td><td>rmse</td><td>standard</td><td>2132455</td><td>5</td><td>141918.4</td><td>Preprocessor1_Model04</td></tr>\n",
       "\t<tr><td>5</td><td>rmse</td><td>standard</td><td>2083719</td><td>5</td><td>141355.7</td><td>Preprocessor1_Model05</td></tr>\n",
       "\t<tr><td>⋮</td><td>⋮</td><td>⋮</td><td>⋮</td><td>⋮</td><td>⋮</td><td>⋮</td></tr>\n",
       "\t<tr><td>26</td><td>rmse</td><td>standard</td><td>2061330</td><td>5</td><td>109039.6</td><td>Preprocessor1_Model26</td></tr>\n",
       "\t<tr><td>27</td><td>rmse</td><td>standard</td><td>2062762</td><td>5</td><td>106612.5</td><td>Preprocessor1_Model27</td></tr>\n",
       "\t<tr><td>28</td><td>rmse</td><td>standard</td><td>2065359</td><td>5</td><td>107725.1</td><td>Preprocessor1_Model28</td></tr>\n",
       "\t<tr><td>29</td><td>rmse</td><td>standard</td><td>2056069</td><td>5</td><td>103343.9</td><td>Preprocessor1_Model29</td></tr>\n",
       "\t<tr><td>30</td><td>rmse</td><td>standard</td><td>2057044</td><td>5</td><td>104048.5</td><td>Preprocessor1_Model30</td></tr>\n",
       "</tbody>\n",
       "</table>\n"
      ],
      "text/latex": [
       "A tibble: 30 × 7\n",
       "\\begin{tabular}{lllllll}\n",
       " neighbors & .metric & .estimator & mean & n & std\\_err & .config\\\\\n",
       " <dbl> & <chr> & <chr> & <dbl> & <int> & <dbl> & <chr>\\\\\n",
       "\\hline\n",
       "\t 1 & rmse & standard & 2619062 & 5 & 190375.1 & Preprocessor1\\_Model01\\\\\n",
       "\t 2 & rmse & standard & 2223367 & 5 & 182136.1 & Preprocessor1\\_Model02\\\\\n",
       "\t 3 & rmse & standard & 2193969 & 5 & 165449.9 & Preprocessor1\\_Model03\\\\\n",
       "\t 4 & rmse & standard & 2132455 & 5 & 141918.4 & Preprocessor1\\_Model04\\\\\n",
       "\t 5 & rmse & standard & 2083719 & 5 & 141355.7 & Preprocessor1\\_Model05\\\\\n",
       "\t ⋮ & ⋮ & ⋮ & ⋮ & ⋮ & ⋮ & ⋮\\\\\n",
       "\t 26 & rmse & standard & 2061330 & 5 & 109039.6 & Preprocessor1\\_Model26\\\\\n",
       "\t 27 & rmse & standard & 2062762 & 5 & 106612.5 & Preprocessor1\\_Model27\\\\\n",
       "\t 28 & rmse & standard & 2065359 & 5 & 107725.1 & Preprocessor1\\_Model28\\\\\n",
       "\t 29 & rmse & standard & 2056069 & 5 & 103343.9 & Preprocessor1\\_Model29\\\\\n",
       "\t 30 & rmse & standard & 2057044 & 5 & 104048.5 & Preprocessor1\\_Model30\\\\\n",
       "\\end{tabular}\n"
      ],
      "text/markdown": [
       "\n",
       "A tibble: 30 × 7\n",
       "\n",
       "| neighbors &lt;dbl&gt; | .metric &lt;chr&gt; | .estimator &lt;chr&gt; | mean &lt;dbl&gt; | n &lt;int&gt; | std_err &lt;dbl&gt; | .config &lt;chr&gt; |\n",
       "|---|---|---|---|---|---|---|\n",
       "| 1 | rmse | standard | 2619062 | 5 | 190375.1 | Preprocessor1_Model01 |\n",
       "| 2 | rmse | standard | 2223367 | 5 | 182136.1 | Preprocessor1_Model02 |\n",
       "| 3 | rmse | standard | 2193969 | 5 | 165449.9 | Preprocessor1_Model03 |\n",
       "| 4 | rmse | standard | 2132455 | 5 | 141918.4 | Preprocessor1_Model04 |\n",
       "| 5 | rmse | standard | 2083719 | 5 | 141355.7 | Preprocessor1_Model05 |\n",
       "| ⋮ | ⋮ | ⋮ | ⋮ | ⋮ | ⋮ | ⋮ |\n",
       "| 26 | rmse | standard | 2061330 | 5 | 109039.6 | Preprocessor1_Model26 |\n",
       "| 27 | rmse | standard | 2062762 | 5 | 106612.5 | Preprocessor1_Model27 |\n",
       "| 28 | rmse | standard | 2065359 | 5 | 107725.1 | Preprocessor1_Model28 |\n",
       "| 29 | rmse | standard | 2056069 | 5 | 103343.9 | Preprocessor1_Model29 |\n",
       "| 30 | rmse | standard | 2057044 | 5 | 104048.5 | Preprocessor1_Model30 |\n",
       "\n"
      ],
      "text/plain": [
       "   neighbors .metric .estimator mean    n std_err  .config              \n",
       "1  1         rmse    standard   2619062 5 190375.1 Preprocessor1_Model01\n",
       "2  2         rmse    standard   2223367 5 182136.1 Preprocessor1_Model02\n",
       "3  3         rmse    standard   2193969 5 165449.9 Preprocessor1_Model03\n",
       "4  4         rmse    standard   2132455 5 141918.4 Preprocessor1_Model04\n",
       "5  5         rmse    standard   2083719 5 141355.7 Preprocessor1_Model05\n",
       "⋮  ⋮         ⋮       ⋮          ⋮       ⋮ ⋮        ⋮                    \n",
       "26 26        rmse    standard   2061330 5 109039.6 Preprocessor1_Model26\n",
       "27 27        rmse    standard   2062762 5 106612.5 Preprocessor1_Model27\n",
       "28 28        rmse    standard   2065359 5 107725.1 Preprocessor1_Model28\n",
       "29 29        rmse    standard   2056069 5 103343.9 Preprocessor1_Model29\n",
       "30 30        rmse    standard   2057044 5 104048.5 Preprocessor1_Model30"
      ]
     },
     "metadata": {},
     "output_type": "display_data"
    }
   ],
   "source": [
    "set.seed(68)\n",
    "nhl_k <- workflow() %>%\n",
    "  add_recipe(nhl_recipe) %>%\n",
    "  add_model(nhl_spec) %>%\n",
    "  tune_grid(resamples = nhl_vfold, grid = gridvals) %>%\n",
    "  collect_metrics() %>%\n",
    "  filter(.metric == \"rmse\") \n",
    "nhl_k"
   ]
  },
  {
   "cell_type": "code",
   "execution_count": 23,
   "id": "4171221f-b6d0-4348-8445-7ba65179a595",
   "metadata": {},
   "outputs": [
    {
     "data": {
      "image/png": "[encoded data removed]",
      "text/plain": [
       "plot without title"
      ]
     },
     "metadata": {
      "image/png": {
       "height": 420,
       "width": 420
      }
     },
     "output_type": "display_data"
    }
   ],
   "source": [
    "neighbours_plot <- ggplot(nhl_k, aes(x = neighbors, y = mean)) +\n",
    "  geom_point() +\n",
    "  geom_line() + \n",
    "  labs(x = \"Neighbors\", y = \"Accuracy Estimate\") +\n",
    "  ggtitle(\"Neighbours Accuracy Plot\") +\n",
    "  theme(text = element_text(size = 18))\n",
    "neighbours_plot\n"
   ]
  },
  {
   "cell_type": "code",
   "execution_count": 24,
   "id": "d1b02f27-8a7c-4afd-a943-f5fe7f6d214b",
   "metadata": {},
   "outputs": [
    {
     "data": {
      "text/html": [
       "<table class=\"dataframe\">\n",
       "<caption>A tibble: 1 × 7</caption>\n",
       "<thead>\n",
       "\t<tr><th scope=col>neighbors</th><th scope=col>.metric</th><th scope=col>.estimator</th><th scope=col>mean</th><th scope=col>n</th><th scope=col>std_err</th><th scope=col>.config</th></tr>\n",
       "\t<tr><th scope=col>&lt;dbl&gt;</th><th scope=col>&lt;chr&gt;</th><th scope=col>&lt;chr&gt;</th><th scope=col>&lt;dbl&gt;</th><th scope=col>&lt;int&gt;</th><th scope=col>&lt;dbl&gt;</th><th scope=col>&lt;chr&gt;</th></tr>\n",
       "</thead>\n",
       "<tbody>\n",
       "\t<tr><td>15</td><td>rmse</td><td>standard</td><td>2026886</td><td>5</td><td>104561.4</td><td>Preprocessor1_Model15</td></tr>\n",
       "</tbody>\n",
       "</table>\n"
      ],
      "text/latex": [
       "A tibble: 1 × 7\n",
       "\\begin{tabular}{lllllll}\n",
       " neighbors & .metric & .estimator & mean & n & std\\_err & .config\\\\\n",
       " <dbl> & <chr> & <chr> & <dbl> & <int> & <dbl> & <chr>\\\\\n",
       "\\hline\n",
       "\t 15 & rmse & standard & 2026886 & 5 & 104561.4 & Preprocessor1\\_Model15\\\\\n",
       "\\end{tabular}\n"
      ],
      "text/markdown": [
       "\n",
       "A tibble: 1 × 7\n",
       "\n",
       "| neighbors &lt;dbl&gt; | .metric &lt;chr&gt; | .estimator &lt;chr&gt; | mean &lt;dbl&gt; | n &lt;int&gt; | std_err &lt;dbl&gt; | .config &lt;chr&gt; |\n",
       "|---|---|---|---|---|---|---|\n",
       "| 15 | rmse | standard | 2026886 | 5 | 104561.4 | Preprocessor1_Model15 |\n",
       "\n"
      ],
      "text/plain": [
       "  neighbors .metric .estimator mean    n std_err  .config              \n",
       "1 15        rmse    standard   2026886 5 104561.4 Preprocessor1_Model15"
      ]
     },
     "metadata": {},
     "output_type": "display_data"
    }
   ],
   "source": [
    "nhl_min <- nhl_k %>%\n",
    "  filter(mean == min(mean)) \n",
    "nhl_min"
   ]
  },
  {
   "cell_type": "markdown",
   "id": "3bbc995e-3b74-4bfd-8467-b01d1040f69c",
   "metadata": {},
   "source": [
    "Looks like the best number of neighbours is 15."
   ]
  },
  {
   "cell_type": "markdown",
   "id": "e6fec80d-e281-49ca-8b6d-a5f7a8e1e00f",
   "metadata": {},
   "source": [
    "## Evaluation"
   ]
  },
  {
   "cell_type": "markdown",
   "id": "060d0e72-5fc6-4088-b42b-16242a4342ab",
   "metadata": {},
   "source": [
    "Now we can evalute our model using the test data."
   ]
  },
  {
   "cell_type": "code",
   "execution_count": 45,
   "id": "a373c4d0-c413-4316-8d57-41fa034a0a1f",
   "metadata": {},
   "outputs": [
    {
     "data": {
      "text/html": [
       "<table class=\"dataframe\">\n",
       "<caption>A tibble: 1 × 3</caption>\n",
       "<thead>\n",
       "\t<tr><th scope=col>.metric</th><th scope=col>.estimator</th><th scope=col>.estimate</th></tr>\n",
       "\t<tr><th scope=col>&lt;chr&gt;</th><th scope=col>&lt;chr&gt;</th><th scope=col>&lt;dbl&gt;</th></tr>\n",
       "</thead>\n",
       "<tbody>\n",
       "\t<tr><td>rmse</td><td>standard</td><td>2259128</td></tr>\n",
       "</tbody>\n",
       "</table>\n"
      ],
      "text/latex": [
       "A tibble: 1 × 3\n",
       "\\begin{tabular}{lll}\n",
       " .metric & .estimator & .estimate\\\\\n",
       " <chr> & <chr> & <dbl>\\\\\n",
       "\\hline\n",
       "\t rmse & standard & 2259128\\\\\n",
       "\\end{tabular}\n"
      ],
      "text/markdown": [
       "\n",
       "A tibble: 1 × 3\n",
       "\n",
       "| .metric &lt;chr&gt; | .estimator &lt;chr&gt; | .estimate &lt;dbl&gt; |\n",
       "|---|---|---|\n",
       "| rmse | standard | 2259128 |\n",
       "\n"
      ],
      "text/plain": [
       "  .metric .estimator .estimate\n",
       "1 rmse    standard   2259128  "
      ]
     },
     "metadata": {},
     "output_type": "display_data"
    }
   ],
   "source": [
    "set.seed(68)\n",
    "nhl_spec <- nearest_neighbor(weight_func = \"rectangular\", neighbors = 15) |>\n",
    "  set_engine(\"kknn\") |>\n",
    "  set_mode(\"regression\")\n",
    " \n",
    "nhl_fit <- workflow() |>\n",
    "  add_recipe(nhl_recipe) |>\n",
    "  add_model(nhl_spec) |>\n",
    "  fit(data = nhl_train)\n",
    " \n",
    "nhl_summary <- nhl_fit |>\n",
    "  predict(nhl_test) |>\n",
    "  bind_cols(nhl_test) \n",
    "\n",
    "nhl_rmse <- nhl_summary |>\n",
    "  metrics(truth = Salary, estimate = .pred) |>\n",
    "  filter(.metric == 'rmse')\n",
    "\n",
    "\n",
    "nhl_rmse\n"
   ]
  },
  {
   "cell_type": "markdown",
   "id": "11874c77-de20-4a6e-9e42-1ed88ddefb5b",
   "metadata": {
    "tags": []
   },
   "source": [
    "Our RMSPE is 2259128! That is quite high."
   ]
  },
  {
   "cell_type": "markdown",
   "id": "e1b76286-a385-4773-bcaf-fc065be07da6",
   "metadata": {},
   "source": [
    "Let's plot the predicted values (in millions) against the actual values to visualize how far away our predictions are."
   ]
  },
  {
   "cell_type": "code",
   "execution_count": 44,
   "id": "487254d9-c9de-48c4-8e93-40523b4aff10",
   "metadata": {},
   "outputs": [
    {
     "data": {
      "image/png": "[encoded data removed]",
      "text/plain": [
       "plot without title"
      ]
     },
     "metadata": {
      "image/png": {
       "height": 420,
       "width": 420
      }
     },
     "output_type": "display_data"
    }
   ],
   "source": [
    "nhl_pred_plot <- nhl_summary %>%\n",
    "ggplot(aes(x = Salary/1000000, y = .pred/1000000)) +\n",
    "geom_point() + \n",
    "geom_abline(intercept=0, slope=1, col = \"red\") +\n",
    "xlim(0,16) +\n",
    "ylim(0,16) +\n",
    "xlab(\"Actual Salaries (in million USDs)\") +\n",
    "ylab(\"Predicted Salaries (in million USDs)\") +\n",
    "ggtitle(\"Predicted vs Actual NHL Player Salaries\") +\n",
    "theme(text = element_text(size = 20))\n",
    "nhl_pred_plot "
   ]
  },
  {
   "cell_type": "markdown",
   "id": "c6a5a1a0-e9c3-4301-b80d-3531e6213018",
   "metadata": {},
   "source": [
    "It seems that quite a few players on the lower salary side are being predicted to have higher salaries. One possible reason for this is that the players have good stats, but they are paid less due to their inexperience. "
   ]
  },
  {
   "cell_type": "markdown",
   "id": "77547e50-8f1d-4090-86dc-b1c400d602e6",
   "metadata": {},
   "source": [
    "## Prediction"
   ]
  },
  {
   "cell_type": "markdown",
   "id": "93973862-0dd6-40ea-afeb-c8ba23996f2e",
   "metadata": {},
   "source": [
    "We can also come up with a prediction for a player this 2021-2022 season. Lets use Bo Horvat of the Vancouver canucks his season stats in 2020/2021 (per game) were: TOI: 14.72, Goals: 0.1786, Total.Assists: 0.2143, Shots: 1.625, Rebounds.Created: 0.08929, iHDCF: 0.7857\n",
    "\n",
    "Source: https://www.naturalstattrick.com/playerreport.php?fromseason=20192020&thruseason=20192020&playerid=8477500&sit=5v5&stype=2"
   ]
  },
  {
   "cell_type": "code",
   "execution_count": 35,
   "id": "cdbf0d34-cbec-49ef-b2c5-6a46c30dee76",
   "metadata": {},
   "outputs": [
    {
     "data": {
      "text/html": [
       "<table class=\"dataframe\">\n",
       "<caption>A data.frame: 1 × 6</caption>\n",
       "<thead>\n",
       "\t<tr><th scope=col>TOI</th><th scope=col>Goals</th><th scope=col>Total.Assists</th><th scope=col>Shots</th><th scope=col>Rebounds.Created</th><th scope=col>iHDCF</th></tr>\n",
       "\t<tr><th scope=col>&lt;dbl&gt;</th><th scope=col>&lt;dbl&gt;</th><th scope=col>&lt;dbl&gt;</th><th scope=col>&lt;dbl&gt;</th><th scope=col>&lt;dbl&gt;</th><th scope=col>&lt;dbl&gt;</th></tr>\n",
       "</thead>\n",
       "<tbody>\n",
       "\t<tr><td>14.72</td><td>0.1786</td><td>0.2143</td><td>1.625</td><td>0.08929</td><td>0.7857</td></tr>\n",
       "</tbody>\n",
       "</table>\n"
      ],
      "text/latex": [
       "A data.frame: 1 × 6\n",
       "\\begin{tabular}{llllll}\n",
       " TOI & Goals & Total.Assists & Shots & Rebounds.Created & iHDCF\\\\\n",
       " <dbl> & <dbl> & <dbl> & <dbl> & <dbl> & <dbl>\\\\\n",
       "\\hline\n",
       "\t 14.72 & 0.1786 & 0.2143 & 1.625 & 0.08929 & 0.7857\\\\\n",
       "\\end{tabular}\n"
      ],
      "text/markdown": [
       "\n",
       "A data.frame: 1 × 6\n",
       "\n",
       "| TOI &lt;dbl&gt; | Goals &lt;dbl&gt; | Total.Assists &lt;dbl&gt; | Shots &lt;dbl&gt; | Rebounds.Created &lt;dbl&gt; | iHDCF &lt;dbl&gt; |\n",
       "|---|---|---|---|---|---|\n",
       "| 14.72 | 0.1786 | 0.2143 | 1.625 | 0.08929 | 0.7857 |\n",
       "\n"
      ],
      "text/plain": [
       "  TOI   Goals  Total.Assists Shots Rebounds.Created iHDCF \n",
       "1 14.72 0.1786 0.2143        1.625 0.08929          0.7857"
      ]
     },
     "metadata": {},
     "output_type": "display_data"
    },
    {
     "data": {
      "text/html": [
       "<table class=\"dataframe\">\n",
       "<caption>A tibble: 1 × 1</caption>\n",
       "<thead>\n",
       "\t<tr><th scope=col>.pred</th></tr>\n",
       "\t<tr><th scope=col>&lt;dbl&gt;</th></tr>\n",
       "</thead>\n",
       "<tbody>\n",
       "\t<tr><td>2576667</td></tr>\n",
       "</tbody>\n",
       "</table>\n"
      ],
      "text/latex": [
       "A tibble: 1 × 1\n",
       "\\begin{tabular}{l}\n",
       " .pred\\\\\n",
       " <dbl>\\\\\n",
       "\\hline\n",
       "\t 2576667\\\\\n",
       "\\end{tabular}\n"
      ],
      "text/markdown": [
       "\n",
       "A tibble: 1 × 1\n",
       "\n",
       "| .pred &lt;dbl&gt; |\n",
       "|---|\n",
       "| 2576667 |\n",
       "\n"
      ],
      "text/plain": [
       "  .pred  \n",
       "1 2576667"
      ]
     },
     "metadata": {},
     "output_type": "display_data"
    }
   ],
   "source": [
    "horvat_data <- data.frame(\"TOI\" = c(14.72), \"Goals\" = c(0.1786), \"Total.Assists\" = c(0.2143), \"Shots\" = c(1.625),\n",
    "                           \"Rebounds.Created\" = c(0.08929), \"iHDCF\" = c(0.7857))\n",
    "horvat_data\n",
    "horval_prediction <- nhl_fit |>\n",
    "  predict(horvat_data)\n",
    "horval_prediction"
   ]
  },
  {
   "cell_type": "markdown",
   "id": "3541d2fe-6a03-47ad-8ce5-ca5a89944324",
   "metadata": {},
   "source": [
    "Horvats actual salary this season is: $5 775 000 USD"
   ]
  },
  {
   "cell_type": "markdown",
   "id": "d3561cc6-0069-447c-8308-99c06d92ccb4",
   "metadata": {},
   "source": [
    "It seems that Horvat is getting paid more than other players with his statistics. One reason for this could be his leadership role as the Captain of the Canucks."
   ]
  },
  {
   "cell_type": "markdown",
   "id": "19e15beb-54f5-40be-b412-0c10de0fa048",
   "metadata": {},
   "source": [
    "## Conclusion"
   ]
  },
  {
   "cell_type": "markdown",
   "id": "481fb8f3-f535-40ab-ae07-03a16fb44dea",
   "metadata": {},
   "source": [
    "It seems like we got an alright predictive model in the end. It is likely much better than randomly choosing a salary for a player. Something of note is that our RMSPE from the test data is quite a bit larger than the RMSE from our training data. One reason for this could be that tinkering with the predictive variables so much catered more towards the training data. Next time, we can try a different way of selecting predictors. \n",
    "\n",
    "The differences in actual vs predicted salaries could be that the players should be actually be getting paid more or less. Though, a  more reasonable conclusion is that there are so many factors that go into hiring that are missing from our original data set. These factors include what kind of work environment the player fosters, whether the player is willing to take shorter contracts or not, and how they performed in previous seasons. \n",
    "\n",
    "As it stands, the RMSPE seems too large for this model to be helpful in determining what salary a player should be offered. If the model was more accurate, then General Managers could use it to spend the teams' money more effectively. By only offering a player what the model thinks they should get based on past performance, it could be easier for the GM to avoid having under-performing and over-paid players on their team.\n",
    "\n",
    "I learned a lot from this project. For one, I should start with reliable data. Then, any conclusions made from a data analysis will be much more reliable. It was fun to try and make the model more effictive. For example, initially I went through the training data analysis while the variables wern't per-game. Switching to per game variables made the model more accurate as players with more games played would usually have larger data points. Finally, I learned a lot about what kind of hockey statistics there are. I had no idea that different scoring chances were categorized.\n",
    "\n",
    "Overall, I made some mistakes, learned from them, and had a good time working on this NHL salary prediction project."
   ]
  }
 ],
 "metadata": {
  "kernelspec": {
   "display_name": "R",
   "language": "R",
   "name": "ir"
  },
  "language_info": {
   "codemirror_mode": "r",
   "file_extension": ".r",
   "mimetype": "text/x-r-source",
   "name": "R",
   "pygments_lexer": "r",
   "version": "4.1.2"
  }
 },
 "nbformat": 4,
 "nbformat_minor": 5
}
