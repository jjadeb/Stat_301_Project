{
 "cells": [
  {
   "cell_type": "markdown",
   "id": "d32cce06-f711-4b57-91ce-f2f2b6cb2fc2",
   "metadata": {},
   "source": [
    "## Introduction"
   ]
  },
  {
   "cell_type": "markdown",
   "id": "fd83f296-e969-4be1-819a-7356069d3da8",
   "metadata": {},
   "source": [
    "Many death threats float around in group chats. Hopefully they are light hearted, but it seems reasonable to track them just in case someone ends up at the bottom of a river. Someone did track them and now we can have some insight into the following questions:"
   ]
  },
  {
   "cell_type": "markdown",
   "id": "c6441571-1861-4e50-ae7f-015c7d6ed954",
   "metadata": {},
   "source": [
    "**Do the internet girls Josh knows give more death threats than the internet guys?**"
   ]
  },
  {
   "cell_type": "markdown",
   "id": "a41e70b1-61d2-472c-9a79-159009a9ca33",
   "metadata": {},
   "source": [
    "and"
   ]
  },
  {
   "cell_type": "markdown",
   "id": "51c1aace-ea91-4b83-952f-38fb548dd2bf",
   "metadata": {},
   "source": [
    "**Do the internet guys Josh knows receive more death threats than the internet girls?**"
   ]
  },
  {
   "cell_type": "markdown",
   "id": "d4d4cb56-c3ab-49ee-99d4-9ff15c4c2f3b",
   "metadata": {},
   "source": [
    "Our sample is some of Josh's discord friends. I will include Josh in this sample as he is also his own friend. Our population is all of Josh's online friends. We should keep in mind the limitations of generalizing our results. For example, it could be that Josh's discord guy friends are much more kind than his general community of online friends."
   ]
  },
  {
   "cell_type": "markdown",
   "id": "41ba09f1-cc2d-4ad5-b327-5d180fab31fd",
   "metadata": {},
   "source": [
    "### Data Set Description"
   ]
  },
  {
   "cell_type": "markdown",
   "id": "55b0a16c-10c7-487b-a5fa-f5f9e23c4999",
   "metadata": {},
   "source": [
    "This data set was collected by Ochark and it has three columns: Names, Gender, Amount of times people have received death threats (R), and Amount of times people have given death threats (G). This data was collected across multiple discord servers. Ochark used the method of searching words such as \"kill\", \"die\", \"choke\", and \"running people over\". Some data may be missing due to creative ways of threatening to kill someone that are difficult to look up. "
   ]
  },
  {
   "cell_type": "markdown",
   "id": "223f3624-5f81-4f46-a909-87982c77e6bd",
   "metadata": {},
   "source": [
    "Here is the data set"
   ]
  },
  {
   "cell_type": "code",
   "execution_count": 1,
   "id": "763d8b75-c9e2-49cf-8345-f601272b3675",
   "metadata": {},
   "outputs": [
    {
     "data": {
      "text/html": [
       "'Table 1: Raw Data'"
      ],
      "text/latex": [
       "'Table 1: Raw Data'"
      ],
      "text/markdown": [
       "'Table 1: Raw Data'"
      ],
      "text/plain": [
       "[1] \"Table 1: Raw Data\""
      ]
     },
     "metadata": {},
     "output_type": "display_data"
    },
    {
     "data": {
      "text/html": [
       "<table class=\"dataframe\">\n",
       "<caption>A data.frame: 10 × 4</caption>\n",
       "<thead>\n",
       "\t<tr><th scope=col>Names</th><th scope=col>Gender</th><th scope=col>R</th><th scope=col>G</th></tr>\n",
       "\t<tr><th scope=col>&lt;chr&gt;</th><th scope=col>&lt;chr&gt;</th><th scope=col>&lt;dbl&gt;</th><th scope=col>&lt;dbl&gt;</th></tr>\n",
       "</thead>\n",
       "<tbody>\n",
       "\t<tr><td>Josh (Yoda)    </td><td>Male   </td><td>29</td><td> 2</td></tr>\n",
       "\t<tr><td>Josh (Astro)   </td><td>Male   </td><td> 6</td><td> 0</td></tr>\n",
       "\t<tr><td>Ochark         </td><td>Male   </td><td> 6</td><td> 0</td></tr>\n",
       "\t<tr><td>Dylan          </td><td>Male   </td><td> 3</td><td> 2</td></tr>\n",
       "\t<tr><td>Sam            </td><td>Female </td><td> 2</td><td>21</td></tr>\n",
       "\t<tr><td>Trinity        </td><td>Female </td><td> 2</td><td>26</td></tr>\n",
       "\t<tr><td>Josh's Parrots </td><td>Unknown</td><td> 1</td><td> 0</td></tr>\n",
       "\t<tr><td>Aly            </td><td>Female </td><td> 0</td><td>11</td></tr>\n",
       "\t<tr><td>Darlynn        </td><td>Male   </td><td> 0</td><td> 0</td></tr>\n",
       "\t<tr><td>Trinity's Phone</td><td>NA     </td><td> 0</td><td> 0</td></tr>\n",
       "</tbody>\n",
       "</table>\n"
      ],
      "text/latex": [
       "A data.frame: 10 × 4\n",
       "\\begin{tabular}{llll}\n",
       " Names & Gender & R & G\\\\\n",
       " <chr> & <chr> & <dbl> & <dbl>\\\\\n",
       "\\hline\n",
       "\t Josh (Yoda)     & Male    & 29 &  2\\\\\n",
       "\t Josh (Astro)    & Male    &  6 &  0\\\\\n",
       "\t Ochark          & Male    &  6 &  0\\\\\n",
       "\t Dylan           & Male    &  3 &  2\\\\\n",
       "\t Sam             & Female  &  2 & 21\\\\\n",
       "\t Trinity         & Female  &  2 & 26\\\\\n",
       "\t Josh's Parrots  & Unknown &  1 &  0\\\\\n",
       "\t Aly             & Female  &  0 & 11\\\\\n",
       "\t Darlynn         & Male    &  0 &  0\\\\\n",
       "\t Trinity's Phone & NA      &  0 &  0\\\\\n",
       "\\end{tabular}\n"
      ],
      "text/markdown": [
       "\n",
       "A data.frame: 10 × 4\n",
       "\n",
       "| Names &lt;chr&gt; | Gender &lt;chr&gt; | R &lt;dbl&gt; | G &lt;dbl&gt; |\n",
       "|---|---|---|---|\n",
       "| Josh (Yoda)     | Male    | 29 |  2 |\n",
       "| Josh (Astro)    | Male    |  6 |  0 |\n",
       "| Ochark          | Male    |  6 |  0 |\n",
       "| Dylan           | Male    |  3 |  2 |\n",
       "| Sam             | Female  |  2 | 21 |\n",
       "| Trinity         | Female  |  2 | 26 |\n",
       "| Josh's Parrots  | Unknown |  1 |  0 |\n",
       "| Aly             | Female  |  0 | 11 |\n",
       "| Darlynn         | Male    |  0 |  0 |\n",
       "| Trinity's Phone | NA      |  0 |  0 |\n",
       "\n"
      ],
      "text/plain": [
       "   Names           Gender  R  G \n",
       "1  Josh (Yoda)     Male    29  2\n",
       "2  Josh (Astro)    Male     6  0\n",
       "3  Ochark          Male     6  0\n",
       "4  Dylan           Male     3  2\n",
       "5  Sam             Female   2 21\n",
       "6  Trinity         Female   2 26\n",
       "7  Josh's Parrots  Unknown  1  0\n",
       "8  Aly             Female   0 11\n",
       "9  Darlynn         Male     0  0\n",
       "10 Trinity's Phone NA       0  0"
      ]
     },
     "metadata": {},
     "output_type": "display_data"
    }
   ],
   "source": [
    "#Compiling the data\n",
    "death_raw <- data.frame(Names = c(\"Josh (Yoda)\", \"Josh (Astro)\", \"Ochark\", \"Dylan\", \"Sam\", \"Trinity\", \n",
    "                                \"Josh's Parrots\", \"Aly\", \"Darlynn\", \"Trinity's Phone\"),\n",
    "                    Gender = c(\"Male\", \"Male\", \"Male\", \"Male\", \"Female\", \"Female\", \n",
    "                               \"Unknown\", \"Female\", \"Male\", NA),\n",
    "                    R = c(29,6,6,3,2,2,1,0,0,0),\n",
    "                    G = c(2,0,0,2,21,26,0,11,0,0))\n",
    "'Table 1: Raw Data'\n",
    "death_raw"
   ]
  },
  {
   "cell_type": "markdown",
   "id": "4cd55fdf-bb07-4741-aba7-180a39839128",
   "metadata": {},
   "source": [
    "## Tidying the Data"
   ]
  },
  {
   "cell_type": "code",
   "execution_count": 35,
   "id": "6f50aba0-a528-4453-87bb-7edde358895c",
   "metadata": {},
   "outputs": [
    {
     "name": "stderr",
     "output_type": "stream",
     "text": [
      "Loading required package: survival\n",
      "\n",
      "\n",
      "Attaching package: ‘coin’\n",
      "\n",
      "\n",
      "The following objects are masked from ‘package:exactRankTests’:\n",
      "\n",
      "    dperm, pperm, qperm, rperm\n",
      "\n",
      "\n"
     ]
    }
   ],
   "source": [
    "library(dplyr)\n",
    "library(broom)\n",
    "library(ggplot2)\n",
    "library(tidyr)\n",
    "library(coin)"
   ]
  },
  {
   "cell_type": "markdown",
   "id": "79db8901-b980-44ec-929f-07fdcdf6bb1a",
   "metadata": {},
   "source": [
    "Since we're only looking at people here, let's remove all the parrots and inanimate objects."
   ]
  },
  {
   "cell_type": "code",
   "execution_count": 3,
   "id": "b4b27715-a3cd-4542-97bf-2f52bc6660e6",
   "metadata": {},
   "outputs": [],
   "source": [
    "death <- death_raw %>%\n",
    "filter(Gender %in% c(\"Male\", \"Female\"))"
   ]
  },
  {
   "cell_type": "markdown",
   "id": "59027d54-5c8c-4f9f-b47e-4eab7fc6455e",
   "metadata": {},
   "source": [
    "Let's also change Gender to factor as factor better describes this variable."
   ]
  },
  {
   "cell_type": "code",
   "execution_count": 4,
   "id": "0174490d-72b1-43a8-b36d-58043c8e2fc5",
   "metadata": {
    "tags": []
   },
   "outputs": [],
   "source": [
    "death$Gender <- as.factor(death$Gender)"
   ]
  },
  {
   "cell_type": "markdown",
   "id": "46f002a6-0aa7-4f06-8045-a3f3b4675ffd",
   "metadata": {},
   "source": [
    "Here is our tidy data set!"
   ]
  },
  {
   "cell_type": "code",
   "execution_count": 5,
   "id": "a7adbb29-98b3-4a83-8e83-4b4a77b054d9",
   "metadata": {},
   "outputs": [
    {
     "data": {
      "text/html": [
       "'Table 2: Tidy Data'"
      ],
      "text/latex": [
       "'Table 2: Tidy Data'"
      ],
      "text/markdown": [
       "'Table 2: Tidy Data'"
      ],
      "text/plain": [
       "[1] \"Table 2: Tidy Data\""
      ]
     },
     "metadata": {},
     "output_type": "display_data"
    },
    {
     "data": {
      "text/html": [
       "<table class=\"dataframe\">\n",
       "<caption>A data.frame: 8 × 4</caption>\n",
       "<thead>\n",
       "\t<tr><th scope=col>Names</th><th scope=col>Gender</th><th scope=col>R</th><th scope=col>G</th></tr>\n",
       "\t<tr><th scope=col>&lt;chr&gt;</th><th scope=col>&lt;fct&gt;</th><th scope=col>&lt;dbl&gt;</th><th scope=col>&lt;dbl&gt;</th></tr>\n",
       "</thead>\n",
       "<tbody>\n",
       "\t<tr><td>Josh (Yoda) </td><td>Male  </td><td>29</td><td> 2</td></tr>\n",
       "\t<tr><td>Josh (Astro)</td><td>Male  </td><td> 6</td><td> 0</td></tr>\n",
       "\t<tr><td>Ochark      </td><td>Male  </td><td> 6</td><td> 0</td></tr>\n",
       "\t<tr><td>Dylan       </td><td>Male  </td><td> 3</td><td> 2</td></tr>\n",
       "\t<tr><td>Sam         </td><td>Female</td><td> 2</td><td>21</td></tr>\n",
       "\t<tr><td>Trinity     </td><td>Female</td><td> 2</td><td>26</td></tr>\n",
       "\t<tr><td>Aly         </td><td>Female</td><td> 0</td><td>11</td></tr>\n",
       "\t<tr><td>Darlynn     </td><td>Male  </td><td> 0</td><td> 0</td></tr>\n",
       "</tbody>\n",
       "</table>\n"
      ],
      "text/latex": [
       "A data.frame: 8 × 4\n",
       "\\begin{tabular}{llll}\n",
       " Names & Gender & R & G\\\\\n",
       " <chr> & <fct> & <dbl> & <dbl>\\\\\n",
       "\\hline\n",
       "\t Josh (Yoda)  & Male   & 29 &  2\\\\\n",
       "\t Josh (Astro) & Male   &  6 &  0\\\\\n",
       "\t Ochark       & Male   &  6 &  0\\\\\n",
       "\t Dylan        & Male   &  3 &  2\\\\\n",
       "\t Sam          & Female &  2 & 21\\\\\n",
       "\t Trinity      & Female &  2 & 26\\\\\n",
       "\t Aly          & Female &  0 & 11\\\\\n",
       "\t Darlynn      & Male   &  0 &  0\\\\\n",
       "\\end{tabular}\n"
      ],
      "text/markdown": [
       "\n",
       "A data.frame: 8 × 4\n",
       "\n",
       "| Names &lt;chr&gt; | Gender &lt;fct&gt; | R &lt;dbl&gt; | G &lt;dbl&gt; |\n",
       "|---|---|---|---|\n",
       "| Josh (Yoda)  | Male   | 29 |  2 |\n",
       "| Josh (Astro) | Male   |  6 |  0 |\n",
       "| Ochark       | Male   |  6 |  0 |\n",
       "| Dylan        | Male   |  3 |  2 |\n",
       "| Sam          | Female |  2 | 21 |\n",
       "| Trinity      | Female |  2 | 26 |\n",
       "| Aly          | Female |  0 | 11 |\n",
       "| Darlynn      | Male   |  0 |  0 |\n",
       "\n"
      ],
      "text/plain": [
       "  Names        Gender R  G \n",
       "1 Josh (Yoda)  Male   29  2\n",
       "2 Josh (Astro) Male    6  0\n",
       "3 Ochark       Male    6  0\n",
       "4 Dylan        Male    3  2\n",
       "5 Sam          Female  2 21\n",
       "6 Trinity      Female  2 26\n",
       "7 Aly          Female  0 11\n",
       "8 Darlynn      Male    0  0"
      ]
     },
     "metadata": {},
     "output_type": "display_data"
    }
   ],
   "source": [
    "'Table 2: Tidy Data'\n",
    "death"
   ]
  },
  {
   "cell_type": "markdown",
   "id": "d76bd753-ea0d-4656-a429-712a5300aa07",
   "metadata": {},
   "source": [
    "## Preliminary Analysis"
   ]
  },
  {
   "cell_type": "markdown",
   "id": "f3a8cf69-0cc8-484c-a0a4-f99fc23ce4f6",
   "metadata": {},
   "source": [
    "Now we can calculate some preliminary statistics and visualize the data."
   ]
  },
  {
   "cell_type": "markdown",
   "id": "fcd3c4d1-804a-4b92-8f8f-a680d478ca13",
   "metadata": {},
   "source": [
    "Let's make a table with the counts, medians, and inter quartile ranges (IQRs) of the data in our two groups. I chose these statistics as they aren't impacted much much by outliers."
   ]
  },
  {
   "cell_type": "code",
   "execution_count": 12,
   "id": "aff2a6dc-ce45-448f-8a4f-d8f6892cbdc4",
   "metadata": {},
   "outputs": [
    {
     "data": {
      "text/html": [
       "<table class=\"dataframe\">\n",
       "<caption>A tibble: 2 × 8</caption>\n",
       "<thead>\n",
       "\t<tr><th scope=col>Gender</th><th scope=col>n</th><th scope=col>n_received</th><th scope=col>n_given</th><th scope=col>median_received</th><th scope=col>iqr_received</th><th scope=col>median_given</th><th scope=col>iqr_given</th></tr>\n",
       "\t<tr><th scope=col>&lt;fct&gt;</th><th scope=col>&lt;int&gt;</th><th scope=col>&lt;dbl&gt;</th><th scope=col>&lt;dbl&gt;</th><th scope=col>&lt;dbl&gt;</th><th scope=col>&lt;dbl&gt;</th><th scope=col>&lt;dbl&gt;</th><th scope=col>&lt;dbl&gt;</th></tr>\n",
       "</thead>\n",
       "<tbody>\n",
       "\t<tr><td>Female</td><td>3</td><td> 4</td><td>58</td><td>2</td><td>1</td><td>21</td><td>7.5</td></tr>\n",
       "\t<tr><td>Male  </td><td>5</td><td>44</td><td> 4</td><td>6</td><td>3</td><td> 0</td><td>2.0</td></tr>\n",
       "</tbody>\n",
       "</table>\n"
      ],
      "text/latex": [
       "A tibble: 2 × 8\n",
       "\\begin{tabular}{llllllll}\n",
       " Gender & n & n\\_received & n\\_given & median\\_received & iqr\\_received & median\\_given & iqr\\_given\\\\\n",
       " <fct> & <int> & <dbl> & <dbl> & <dbl> & <dbl> & <dbl> & <dbl>\\\\\n",
       "\\hline\n",
       "\t Female & 3 &  4 & 58 & 2 & 1 & 21 & 7.5\\\\\n",
       "\t Male   & 5 & 44 &  4 & 6 & 3 &  0 & 2.0\\\\\n",
       "\\end{tabular}\n"
      ],
      "text/markdown": [
       "\n",
       "A tibble: 2 × 8\n",
       "\n",
       "| Gender &lt;fct&gt; | n &lt;int&gt; | n_received &lt;dbl&gt; | n_given &lt;dbl&gt; | median_received &lt;dbl&gt; | iqr_received &lt;dbl&gt; | median_given &lt;dbl&gt; | iqr_given &lt;dbl&gt; |\n",
       "|---|---|---|---|---|---|---|---|\n",
       "| Female | 3 |  4 | 58 | 2 | 1 | 21 | 7.5 |\n",
       "| Male   | 5 | 44 |  4 | 6 | 3 |  0 | 2.0 |\n",
       "\n"
      ],
      "text/plain": [
       "  Gender n n_received n_given median_received iqr_received median_given\n",
       "1 Female 3  4         58      2               1            21          \n",
       "2 Male   5 44          4      6               3             0          \n",
       "  iqr_given\n",
       "1 7.5      \n",
       "2 2.0      "
      ]
     },
     "metadata": {},
     "output_type": "display_data"
    }
   ],
   "source": [
    "sample_stats <- death %>%\n",
    "group_by(Gender) %>%\n",
    "summarize(n = n(),\n",
    "          n_received = sum(R),\n",
    "          n_given = sum(G),\n",
    "          median_received = median(R),\n",
    "          iqr_received = IQR(R),\n",
    "          median_given = median(G),\n",
    "          iqr_given = IQR(G))\n",
    "sample_stats"
   ]
  },
  {
   "cell_type": "markdown",
   "id": "8657ab1d-cdf8-4493-b31f-62be9d77e2e6",
   "metadata": {},
   "source": [
    "We can note that while it's difficult to infer much from such a small sample size, it seems that overall Josh's female friends receive less and give more death threats than the guys. Based on the IQRs, there also seems to be a wider range in amount of threats dished by the girls, but a smaller range of threats received. The oppposite can be observed for the guys."
   ]
  },
  {
   "cell_type": "markdown",
   "id": "0bdd3fbd-1623-44ad-835e-54ed9f093143",
   "metadata": {},
   "source": [
    "Now let's visualize our data!"
   ]
  },
  {
   "cell_type": "markdown",
   "id": "6e811739-b65c-4594-b9cd-686e9eedc80e",
   "metadata": {},
   "source": [
    "While it's difficult to effectively plot our data due to the small sample size, we can make some bar charts showing the overall difference of male and female death threats."
   ]
  },
  {
   "cell_type": "code",
   "execution_count": 27,
   "id": "6f7b4a5c-6b35-4e0e-80e1-a9a0c3407a70",
   "metadata": {},
   "outputs": [
    {
     "data": {
      "image/png": "[encoded data removed]",
      "text/plain": [
       "plot without title"
      ]
     },
     "metadata": {
      "image/png": {
       "height": 300,
       "width": 600
      }
     },
     "output_type": "display_data"
    }
   ],
   "source": [
    "options(repr.plot.width=10, repr.plot.height=5)\n",
    "\n",
    "plot_stats <- sample_stats %>% \n",
    "select(Gender, n_received, n_given) %>%\n",
    "gather(n_received, n_given, -Gender)\n",
    "\n",
    "bar_plot <- plot_stats %>%\n",
    "ggplot(aes(x = Gender, y = n_given, fill = n_received)) +\n",
    "geom_col(position = \"dodge\") +\n",
    "labs(x = \"Count\", y = \"Gender\", fill = \"Stat\") +\n",
    "theme(text = element_text(size = 18)) +\n",
    "ggtitle(\"Figure 1: Death Threats Received and Given by Gender\")\n",
    "\n",
    "bar_plot"
   ]
  },
  {
   "cell_type": "markdown",
   "id": "bfb47efe-835e-4e95-898f-43aba82668dc",
   "metadata": {},
   "source": [
    "Here we can clearly see a large difference between the genders for death threats received and given."
   ]
  },
  {
   "cell_type": "markdown",
   "id": "607009a7-036c-4190-9116-1536cffd208e",
   "metadata": {},
   "source": [
    "## Analysis"
   ]
  },
  {
   "cell_type": "markdown",
   "id": "132bbabd-acbf-4a54-b59d-080089a7453c",
   "metadata": {},
   "source": [
    "We will now analyze the data using a non parametric test called the Wilcox Rank Sum test. This test is essentially a non-parametric version of the two-sample t-test. Non-parametric means this test carries no assumptions about the distribution from which the data is derived. This is helpful for us since we have no knowledge about the population distribution."
   ]
  },
  {
   "cell_type": "markdown",
   "id": "12dfe9c2-a18e-4936-89c6-bfa2ab88fb2f",
   "metadata": {},
   "source": [
    "We will first test the hypothesis that there is no difference between genders for death threats *given*."
   ]
  },
  {
   "cell_type": "markdown",
   "id": "a8b88e14-12ff-4c94-99ef-932cbce8b4c2",
   "metadata": {},
   "source": [
    "### Death Threats Given"
   ]
  },
  {
   "cell_type": "markdown",
   "id": "f2b4f6fe-4bb1-4fb5-b811-cc6bd9ef2643",
   "metadata": {},
   "source": [
    "**Null Hypothesis:** No difference between Josh's online female and male friends in terms of death threats given. In other words, the distributions are the same for amount male and female death threats amoung Josh's online friends.\n",
    "\n",
    "**Alternative:** Josh's online female friends give more death threats than his male ones. In other words, the distributions have the same shape, however the female one is shifted to the right.\n",
    "\n",
    "**Significance level:** 0.05"
   ]
  },
  {
   "cell_type": "markdown",
   "id": "5cdb8eae-7512-44b9-939e-66d5cb871424",
   "metadata": {},
   "source": [
    "Now let's perform the test."
   ]
  },
  {
   "cell_type": "code",
   "execution_count": 36,
   "id": "4028de0a-127f-49e5-8566-eb69ce61f96d",
   "metadata": {},
   "outputs": [
    {
     "data": {
      "text/html": [
       "<table class=\"dataframe\">\n",
       "<caption>A tibble: 1 × 4</caption>\n",
       "<thead>\n",
       "\t<tr><th scope=col>statistic</th><th scope=col>p.value</th><th scope=col>method</th><th scope=col>alternative</th></tr>\n",
       "\t<tr><th scope=col>&lt;dbl&gt;</th><th scope=col>&lt;dbl&gt;</th><th scope=col>&lt;chr&gt;</th><th scope=col>&lt;chr&gt;</th></tr>\n",
       "</thead>\n",
       "<tbody>\n",
       "\t<tr><td>15</td><td>0.01785714</td><td>Exact Wilcoxon rank sum test</td><td>greater</td></tr>\n",
       "</tbody>\n",
       "</table>\n"
      ],
      "text/latex": [
       "A tibble: 1 × 4\n",
       "\\begin{tabular}{llll}\n",
       " statistic & p.value & method & alternative\\\\\n",
       " <dbl> & <dbl> & <chr> & <chr>\\\\\n",
       "\\hline\n",
       "\t 15 & 0.01785714 & Exact Wilcoxon rank sum test & greater\\\\\n",
       "\\end{tabular}\n"
      ],
      "text/markdown": [
       "\n",
       "A tibble: 1 × 4\n",
       "\n",
       "| statistic &lt;dbl&gt; | p.value &lt;dbl&gt; | method &lt;chr&gt; | alternative &lt;chr&gt; |\n",
       "|---|---|---|---|\n",
       "| 15 | 0.01785714 | Exact Wilcoxon rank sum test | greater |\n",
       "\n"
      ],
      "text/plain": [
       "  statistic p.value    method                       alternative\n",
       "1 15        0.01785714 Exact Wilcoxon rank sum test greater    "
      ]
     },
     "metadata": {},
     "output_type": "display_data"
    }
   ],
   "source": [
    "g_test <- wilcox.exact(formula = G ~ Gender, data = death, alternative = \"greater\")\n",
    "tidy(g_test)"
   ]
  },
  {
   "cell_type": "markdown",
   "id": "3d4ac6a9-a66b-4968-88dd-d2ccc32ab258",
   "metadata": {},
   "source": [
    "Our p-value is 0.01785714. Assuming that the null hypothesis is true and that only chance is at play, there would be a 1.786% chance of observing a test statistic as extreme or more extreme than the test statistic we observed. Since our p-value < 0.05, we reject the null hypothesis at the 5% significance level. We conclude that there is evidence that Josh's online female friends give more death threats than his guy friends."
   ]
  },
  {
   "cell_type": "markdown",
   "id": "785fce96-e3e5-4b98-bac6-9242d8bf1ad8",
   "metadata": {},
   "source": [
    "### Death Threats Received"
   ]
  },
  {
   "cell_type": "markdown",
   "id": "c033e61c-cc3e-4a5e-a0cf-c29b3395f7dc",
   "metadata": {},
   "source": [
    "**Null Hypothesis:** No difference between Josh's online female and male friends in terms of death threats received. In other words, the distributions are the same for amount male and female death threats amoung Josh's online friends.\n",
    "\n",
    "**Alternative:** Josh's online male friends receive more death threats than his female ones. In other words, the distributions have the same shape, however the male one is shifted to the right.\n",
    "\n",
    "**Significance level:** 0.05"
   ]
  },
  {
   "cell_type": "markdown",
   "id": "2c87402a-7f51-46fc-9246-909948fcb68c",
   "metadata": {},
   "source": [
    "Now let's perform the test."
   ]
  },
  {
   "cell_type": "code",
   "execution_count": 38,
   "id": "2daae444-376d-416e-8cbe-d7540f655d94",
   "metadata": {},
   "outputs": [
    {
     "data": {
      "text/html": [
       "<table class=\"dataframe\">\n",
       "<caption>A tibble: 1 × 4</caption>\n",
       "<thead>\n",
       "\t<tr><th scope=col>statistic</th><th scope=col>p.value</th><th scope=col>method</th><th scope=col>alternative</th></tr>\n",
       "\t<tr><th scope=col>&lt;dbl&gt;</th><th scope=col>&lt;dbl&gt;</th><th scope=col>&lt;chr&gt;</th><th scope=col>&lt;chr&gt;</th></tr>\n",
       "</thead>\n",
       "<tbody>\n",
       "\t<tr><td>2.5</td><td>0.08928571</td><td>Exact Wilcoxon rank sum test</td><td>less</td></tr>\n",
       "</tbody>\n",
       "</table>\n"
      ],
      "text/latex": [
       "A tibble: 1 × 4\n",
       "\\begin{tabular}{llll}\n",
       " statistic & p.value & method & alternative\\\\\n",
       " <dbl> & <dbl> & <chr> & <chr>\\\\\n",
       "\\hline\n",
       "\t 2.5 & 0.08928571 & Exact Wilcoxon rank sum test & less\\\\\n",
       "\\end{tabular}\n"
      ],
      "text/markdown": [
       "\n",
       "A tibble: 1 × 4\n",
       "\n",
       "| statistic &lt;dbl&gt; | p.value &lt;dbl&gt; | method &lt;chr&gt; | alternative &lt;chr&gt; |\n",
       "|---|---|---|---|\n",
       "| 2.5 | 0.08928571 | Exact Wilcoxon rank sum test | less |\n",
       "\n"
      ],
      "text/plain": [
       "  statistic p.value    method                       alternative\n",
       "1 2.5       0.08928571 Exact Wilcoxon rank sum test less       "
      ]
     },
     "metadata": {},
     "output_type": "display_data"
    }
   ],
   "source": [
    "r_test <- wilcox.exact(formula = R ~ Gender, data = death, alternative = \"less\")\n",
    "tidy(r_test)"
   ]
  },
  {
   "cell_type": "markdown",
   "id": "13790a78-6370-4b9e-847d-791176b95633",
   "metadata": {},
   "source": [
    "Our p-value is 0.0892857. Assuming that the null hypothesis is true and that only chance is at play, there would be a 8.93% chance of observing a test statistic as extreme or more extreme than the test statistic we observed. Since our p-value > 0.05, we do not reject the null hypothesis at the 5% significance level. We conclude that there is no significant evidence that Josh's male friends receive more death threats than his female friends."
   ]
  },
  {
   "cell_type": "markdown",
   "id": "060fda0c-16fa-4989-9b06-6f6052182e53",
   "metadata": {},
   "source": [
    "This result may seem surprising and counter-intuitive. It is worth noting that these results do not indicate that Josh's male friends don't receive more death threats, they simply mean that the sample we collected is not sufficient in showing evidence for that statement. Another sample with more people included may show different results."
   ]
  },
  {
   "cell_type": "markdown",
   "id": "b1f0d336-3d6d-4a4d-81d9-e4db136602cc",
   "metadata": {
    "tags": []
   },
   "source": [
    "## Discussion"
   ]
  },
  {
   "cell_type": "markdown",
   "id": "9fefca40-b58f-4c05-bd4f-f5033d42bd1f",
   "metadata": {},
   "source": [
    "Let's go back to our initial questions. \n",
    "\n",
    "First, Do the internet girls Josh knows give more death threats than the internet guys? We have provided evidence that supports this statement. \n",
    "\n",
    "Second, Do the internet guys Josh knows receive more death threats than the internet girls? We have not provided evidence that supports this statement."
   ]
  },
  {
   "cell_type": "markdown",
   "id": "1c465ffa-f4b3-43f5-a762-b89c7ee811b3",
   "metadata": {},
   "source": [
    "We used a Wilcox Rank Sum test to perform our analysis. It is worth noting that for this test the exact magnitudes of data points don't matter too much. What does matter is their rank in comparison to the other data points. Therefore if Josh (Yoda) only received 7 death threats (which is one larger than the second largest amount of threats received), we would have seen the same results."
   ]
  },
  {
   "cell_type": "markdown",
   "id": "2dadfcc5-f0e7-4010-9721-77e42a736d6a",
   "metadata": {},
   "source": [
    "## Limitations"
   ]
  },
  {
   "cell_type": "markdown",
   "id": "879745f6-a507-413d-8b6d-897ccf3d2de4",
   "metadata": {},
   "source": [
    "The assumptions for the Wilcox test have not been met. This test assumes randomness and independence. We can assume that one person's given and received death threats are independent of anothers. However, we cannot assume randomness as not all of Josh's online friends were given an equal opportunity to have their death threats counted. Therefore, we cannot generalize our results beyond the sample."
   ]
  },
  {
   "cell_type": "markdown",
   "id": "8b00b23e-d202-4130-b325-cdd890b4bee5",
   "metadata": {},
   "source": [
    "A further analysis is necessary to make more concrete conclusions. "
   ]
  },
  {
   "cell_type": "markdown",
   "id": "43dbf1e9-b04a-4d94-a9e0-4e60a2c8f733",
   "metadata": {},
   "source": [
    "Funding for further research can be sent to Jade Bouchard."
   ]
  }
 ],
 "metadata": {
  "kernelspec": {
   "display_name": "R",
   "language": "R",
   "name": "ir"
  },
  "language_info": {
   "codemirror_mode": "r",
   "file_extension": ".r",
   "mimetype": "text/x-r-source",
   "name": "R",
   "pygments_lexer": "r",
   "version": "4.1.2"
  }
 },
 "nbformat": 4,
 "nbformat_minor": 5
}
